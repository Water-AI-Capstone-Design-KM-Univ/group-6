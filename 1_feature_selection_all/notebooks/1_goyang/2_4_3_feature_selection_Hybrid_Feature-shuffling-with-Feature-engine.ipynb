{
 "cells": [
  {
   "cell_type": "markdown",
   "metadata": {},
   "source": [
    "## 2-4-3. Feature Selection Using Hybrid Method (Random Shuffling with Feature Engine)\n",
    "\n",
    "We can implement feature selection by feature shuffling with Feature-engine.\n",
    "\n",
    "The selector takes any machine learning algorithm as input, and any metric from those allowed by Scikit-learn."
   ]
  },
  {
   "cell_type": "markdown",
   "metadata": {},
   "source": [
    "### A. Import Python libraries"
   ]
  },
  {
   "cell_type": "code",
   "execution_count": 1,
   "metadata": {},
   "outputs": [],
   "source": [
    "import pandas as pd\n",
    "\n",
    "from sklearn.ensemble import RandomForestClassifier, RandomForestRegressor\n",
    "from sklearn.metrics import roc_auc_score, mean_squared_error, r2_score\n",
    "from sklearn.model_selection import train_test_split\n",
    "\n",
    "from feature_engine.selection import SelectByShuffling"
   ]
  },
  {
   "cell_type": "markdown",
   "metadata": {},
   "source": [
    "### B. Set City Name and Import City Data"
   ]
  },
  {
   "cell_type": "code",
   "execution_count": 2,
   "metadata": {},
   "outputs": [],
   "source": [
    "# set city name\n",
    "city_data = \"1_goyang_city.xlsx\"\n",
    "CITY_NAME_Eng = \"GoYang-City\""
   ]
  },
  {
   "cell_type": "code",
   "execution_count": 3,
   "metadata": {},
   "outputs": [
    {
     "data": {
      "text/html": [
       "<div>\n",
       "<style scoped>\n",
       "    .dataframe tbody tr th:only-of-type {\n",
       "        vertical-align: middle;\n",
       "    }\n",
       "\n",
       "    .dataframe tbody tr th {\n",
       "        vertical-align: top;\n",
       "    }\n",
       "\n",
       "    .dataframe thead th {\n",
       "        text-align: right;\n",
       "    }\n",
       "</style>\n",
       "<table border=\"1\" class=\"dataframe\">\n",
       "  <thead>\n",
       "    <tr style=\"text-align: right;\">\n",
       "      <th></th>\n",
       "      <th>water_supply</th>\n",
       "      <th>Total_Population</th>\n",
       "      <th>Households</th>\n",
       "      <th>Population_per_Households</th>\n",
       "      <th>Male_Population</th>\n",
       "      <th>Female_Population</th>\n",
       "      <th>Male_Female_Ratio</th>\n",
       "      <th>Population_aging_Ratio</th>\n",
       "      <th>Power_usage</th>\n",
       "      <th>Num_of_Business</th>\n",
       "      <th>...</th>\n",
       "      <th>personal_expense</th>\n",
       "      <th>benefits_vs_personal_expense</th>\n",
       "      <th>employment_ratio</th>\n",
       "      <th>employment_insurance_ratio</th>\n",
       "      <th>Average_Temp</th>\n",
       "      <th>Monthly_Rainfall</th>\n",
       "      <th>Average_Relative_Humadity</th>\n",
       "      <th>Ground_Temp</th>\n",
       "      <th>Average_Wind</th>\n",
       "      <th>Average_Pressure</th>\n",
       "    </tr>\n",
       "    <tr>\n",
       "      <th>date</th>\n",
       "      <th></th>\n",
       "      <th></th>\n",
       "      <th></th>\n",
       "      <th></th>\n",
       "      <th></th>\n",
       "      <th></th>\n",
       "      <th></th>\n",
       "      <th></th>\n",
       "      <th></th>\n",
       "      <th></th>\n",
       "      <th></th>\n",
       "      <th></th>\n",
       "      <th></th>\n",
       "      <th></th>\n",
       "      <th></th>\n",
       "      <th></th>\n",
       "      <th></th>\n",
       "      <th></th>\n",
       "      <th></th>\n",
       "      <th></th>\n",
       "      <th></th>\n",
       "    </tr>\n",
       "  </thead>\n",
       "  <tbody>\n",
       "    <tr>\n",
       "      <th>2010-01-01</th>\n",
       "      <td>282265.709677</td>\n",
       "      <td>939497.0</td>\n",
       "      <td>353741.0</td>\n",
       "      <td>2.655889</td>\n",
       "      <td>463878.0</td>\n",
       "      <td>475619.0</td>\n",
       "      <td>0.975314</td>\n",
       "      <td>0.088</td>\n",
       "      <td>434436000.0</td>\n",
       "      <td>20326.0</td>\n",
       "      <td>...</td>\n",
       "      <td>104371555.0</td>\n",
       "      <td>0.191</td>\n",
       "      <td>99001.0</td>\n",
       "      <td>0.105377</td>\n",
       "      <td>-4.5</td>\n",
       "      <td>29.3</td>\n",
       "      <td>0.65</td>\n",
       "      <td>-1.2</td>\n",
       "      <td>2.3</td>\n",
       "      <td>1013.6</td>\n",
       "    </tr>\n",
       "    <tr>\n",
       "      <th>2010-02-01</th>\n",
       "      <td>273685.892857</td>\n",
       "      <td>940639.0</td>\n",
       "      <td>354266.0</td>\n",
       "      <td>2.655177</td>\n",
       "      <td>464518.0</td>\n",
       "      <td>476121.0</td>\n",
       "      <td>0.975630</td>\n",
       "      <td>0.088</td>\n",
       "      <td>418156000.0</td>\n",
       "      <td>20685.0</td>\n",
       "      <td>...</td>\n",
       "      <td>104371555.0</td>\n",
       "      <td>0.191</td>\n",
       "      <td>99893.0</td>\n",
       "      <td>0.106197</td>\n",
       "      <td>1.4</td>\n",
       "      <td>55.3</td>\n",
       "      <td>0.59</td>\n",
       "      <td>1.4</td>\n",
       "      <td>2.4</td>\n",
       "      <td>1010.7</td>\n",
       "    </tr>\n",
       "    <tr>\n",
       "      <th>2010-03-01</th>\n",
       "      <td>269918.193548</td>\n",
       "      <td>940982.0</td>\n",
       "      <td>354003.0</td>\n",
       "      <td>2.658119</td>\n",
       "      <td>464740.0</td>\n",
       "      <td>476242.0</td>\n",
       "      <td>0.975848</td>\n",
       "      <td>0.088</td>\n",
       "      <td>346653000.0</td>\n",
       "      <td>20809.0</td>\n",
       "      <td>...</td>\n",
       "      <td>104371555.0</td>\n",
       "      <td>0.191</td>\n",
       "      <td>99678.0</td>\n",
       "      <td>0.105930</td>\n",
       "      <td>4.3</td>\n",
       "      <td>82.5</td>\n",
       "      <td>0.59</td>\n",
       "      <td>5.0</td>\n",
       "      <td>2.9</td>\n",
       "      <td>1009.6</td>\n",
       "    </tr>\n",
       "    <tr>\n",
       "      <th>2010-04-01</th>\n",
       "      <td>274462.700000</td>\n",
       "      <td>941737.0</td>\n",
       "      <td>354192.0</td>\n",
       "      <td>2.658832</td>\n",
       "      <td>465148.0</td>\n",
       "      <td>476589.0</td>\n",
       "      <td>0.975994</td>\n",
       "      <td>0.088</td>\n",
       "      <td>356701000.0</td>\n",
       "      <td>21857.0</td>\n",
       "      <td>...</td>\n",
       "      <td>104371555.0</td>\n",
       "      <td>0.191</td>\n",
       "      <td>101594.0</td>\n",
       "      <td>0.107879</td>\n",
       "      <td>9.5</td>\n",
       "      <td>62.8</td>\n",
       "      <td>0.54</td>\n",
       "      <td>10.8</td>\n",
       "      <td>2.9</td>\n",
       "      <td>1007.4</td>\n",
       "    </tr>\n",
       "    <tr>\n",
       "      <th>2010-05-01</th>\n",
       "      <td>288537.806452</td>\n",
       "      <td>941724.0</td>\n",
       "      <td>354157.0</td>\n",
       "      <td>2.659058</td>\n",
       "      <td>465110.0</td>\n",
       "      <td>476614.0</td>\n",
       "      <td>0.975863</td>\n",
       "      <td>0.089</td>\n",
       "      <td>313793000.0</td>\n",
       "      <td>21739.0</td>\n",
       "      <td>...</td>\n",
       "      <td>104371555.0</td>\n",
       "      <td>0.191</td>\n",
       "      <td>102073.0</td>\n",
       "      <td>0.108390</td>\n",
       "      <td>17.2</td>\n",
       "      <td>124.0</td>\n",
       "      <td>0.62</td>\n",
       "      <td>18.7</td>\n",
       "      <td>2.6</td>\n",
       "      <td>1000.6</td>\n",
       "    </tr>\n",
       "    <tr>\n",
       "      <th>...</th>\n",
       "      <td>...</td>\n",
       "      <td>...</td>\n",
       "      <td>...</td>\n",
       "      <td>...</td>\n",
       "      <td>...</td>\n",
       "      <td>...</td>\n",
       "      <td>...</td>\n",
       "      <td>...</td>\n",
       "      <td>...</td>\n",
       "      <td>...</td>\n",
       "      <td>...</td>\n",
       "      <td>...</td>\n",
       "      <td>...</td>\n",
       "      <td>...</td>\n",
       "      <td>...</td>\n",
       "      <td>...</td>\n",
       "      <td>...</td>\n",
       "      <td>...</td>\n",
       "      <td>...</td>\n",
       "      <td>...</td>\n",
       "      <td>...</td>\n",
       "    </tr>\n",
       "    <tr>\n",
       "      <th>2021-08-01</th>\n",
       "      <td>354382.451613</td>\n",
       "      <td>1080896.0</td>\n",
       "      <td>454793.0</td>\n",
       "      <td>2.376677</td>\n",
       "      <td>528972.0</td>\n",
       "      <td>551924.0</td>\n",
       "      <td>0.958415</td>\n",
       "      <td>0.140</td>\n",
       "      <td>487867544.0</td>\n",
       "      <td>46416.0</td>\n",
       "      <td>...</td>\n",
       "      <td>218316665.0</td>\n",
       "      <td>0.293</td>\n",
       "      <td>171845.0</td>\n",
       "      <td>0.158984</td>\n",
       "      <td>25.9</td>\n",
       "      <td>211.2</td>\n",
       "      <td>0.74</td>\n",
       "      <td>28.2</td>\n",
       "      <td>2.1</td>\n",
       "      <td>998.6</td>\n",
       "    </tr>\n",
       "    <tr>\n",
       "      <th>2021-09-01</th>\n",
       "      <td>343537.800000</td>\n",
       "      <td>1080787.0</td>\n",
       "      <td>455501.0</td>\n",
       "      <td>2.372743</td>\n",
       "      <td>528911.0</td>\n",
       "      <td>551876.0</td>\n",
       "      <td>0.958387</td>\n",
       "      <td>0.141</td>\n",
       "      <td>401433572.0</td>\n",
       "      <td>45514.0</td>\n",
       "      <td>...</td>\n",
       "      <td>218316665.0</td>\n",
       "      <td>0.293</td>\n",
       "      <td>172771.0</td>\n",
       "      <td>0.159857</td>\n",
       "      <td>22.6</td>\n",
       "      <td>131.0</td>\n",
       "      <td>0.71</td>\n",
       "      <td>24.6</td>\n",
       "      <td>2.3</td>\n",
       "      <td>1003.4</td>\n",
       "    </tr>\n",
       "    <tr>\n",
       "      <th>2021-10-01</th>\n",
       "      <td>340126.806452</td>\n",
       "      <td>1080240.0</td>\n",
       "      <td>455845.0</td>\n",
       "      <td>2.369753</td>\n",
       "      <td>528683.0</td>\n",
       "      <td>551557.0</td>\n",
       "      <td>0.958528</td>\n",
       "      <td>0.142</td>\n",
       "      <td>358286760.0</td>\n",
       "      <td>45839.0</td>\n",
       "      <td>...</td>\n",
       "      <td>218316665.0</td>\n",
       "      <td>0.293</td>\n",
       "      <td>173486.0</td>\n",
       "      <td>0.160599</td>\n",
       "      <td>15.6</td>\n",
       "      <td>57.0</td>\n",
       "      <td>0.70</td>\n",
       "      <td>16.7</td>\n",
       "      <td>2.1</td>\n",
       "      <td>1011.0</td>\n",
       "    </tr>\n",
       "    <tr>\n",
       "      <th>2021-11-01</th>\n",
       "      <td>335109.300000</td>\n",
       "      <td>1079722.0</td>\n",
       "      <td>456376.0</td>\n",
       "      <td>2.365861</td>\n",
       "      <td>528390.0</td>\n",
       "      <td>551332.0</td>\n",
       "      <td>0.958388</td>\n",
       "      <td>0.142</td>\n",
       "      <td>372991744.0</td>\n",
       "      <td>46076.0</td>\n",
       "      <td>...</td>\n",
       "      <td>218316665.0</td>\n",
       "      <td>0.293</td>\n",
       "      <td>173831.0</td>\n",
       "      <td>0.160996</td>\n",
       "      <td>8.2</td>\n",
       "      <td>62.4</td>\n",
       "      <td>0.68</td>\n",
       "      <td>7.9</td>\n",
       "      <td>2.1</td>\n",
       "      <td>1009.1</td>\n",
       "    </tr>\n",
       "    <tr>\n",
       "      <th>2021-12-01</th>\n",
       "      <td>333891.967742</td>\n",
       "      <td>1079353.0</td>\n",
       "      <td>456852.0</td>\n",
       "      <td>2.362588</td>\n",
       "      <td>528094.0</td>\n",
       "      <td>551259.0</td>\n",
       "      <td>0.957978</td>\n",
       "      <td>0.143</td>\n",
       "      <td>444563909.0</td>\n",
       "      <td>45904.0</td>\n",
       "      <td>...</td>\n",
       "      <td>218316665.0</td>\n",
       "      <td>0.293</td>\n",
       "      <td>173384.0</td>\n",
       "      <td>0.160637</td>\n",
       "      <td>0.6</td>\n",
       "      <td>7.9</td>\n",
       "      <td>0.62</td>\n",
       "      <td>0.8</td>\n",
       "      <td>2.3</td>\n",
       "      <td>1014.4</td>\n",
       "    </tr>\n",
       "  </tbody>\n",
       "</table>\n",
       "<p>144 rows × 25 columns</p>\n",
       "</div>"
      ],
      "text/plain": [
       "             water_supply  Total_Population  Households  \\\n",
       "date                                                      \n",
       "2010-01-01  282265.709677          939497.0    353741.0   \n",
       "2010-02-01  273685.892857          940639.0    354266.0   \n",
       "2010-03-01  269918.193548          940982.0    354003.0   \n",
       "2010-04-01  274462.700000          941737.0    354192.0   \n",
       "2010-05-01  288537.806452          941724.0    354157.0   \n",
       "...                   ...               ...         ...   \n",
       "2021-08-01  354382.451613         1080896.0    454793.0   \n",
       "2021-09-01  343537.800000         1080787.0    455501.0   \n",
       "2021-10-01  340126.806452         1080240.0    455845.0   \n",
       "2021-11-01  335109.300000         1079722.0    456376.0   \n",
       "2021-12-01  333891.967742         1079353.0    456852.0   \n",
       "\n",
       "            Population_per_Households  Male_Population  Female_Population  \\\n",
       "date                                                                        \n",
       "2010-01-01                   2.655889         463878.0           475619.0   \n",
       "2010-02-01                   2.655177         464518.0           476121.0   \n",
       "2010-03-01                   2.658119         464740.0           476242.0   \n",
       "2010-04-01                   2.658832         465148.0           476589.0   \n",
       "2010-05-01                   2.659058         465110.0           476614.0   \n",
       "...                               ...              ...                ...   \n",
       "2021-08-01                   2.376677         528972.0           551924.0   \n",
       "2021-09-01                   2.372743         528911.0           551876.0   \n",
       "2021-10-01                   2.369753         528683.0           551557.0   \n",
       "2021-11-01                   2.365861         528390.0           551332.0   \n",
       "2021-12-01                   2.362588         528094.0           551259.0   \n",
       "\n",
       "            Male_Female_Ratio  Population_aging_Ratio  Power_usage  \\\n",
       "date                                                                 \n",
       "2010-01-01           0.975314                   0.088  434436000.0   \n",
       "2010-02-01           0.975630                   0.088  418156000.0   \n",
       "2010-03-01           0.975848                   0.088  346653000.0   \n",
       "2010-04-01           0.975994                   0.088  356701000.0   \n",
       "2010-05-01           0.975863                   0.089  313793000.0   \n",
       "...                       ...                     ...          ...   \n",
       "2021-08-01           0.958415                   0.140  487867544.0   \n",
       "2021-09-01           0.958387                   0.141  401433572.0   \n",
       "2021-10-01           0.958528                   0.142  358286760.0   \n",
       "2021-11-01           0.958388                   0.142  372991744.0   \n",
       "2021-12-01           0.957978                   0.143  444563909.0   \n",
       "\n",
       "            Num_of_Business  ...  personal_expense  \\\n",
       "date                         ...                     \n",
       "2010-01-01          20326.0  ...       104371555.0   \n",
       "2010-02-01          20685.0  ...       104371555.0   \n",
       "2010-03-01          20809.0  ...       104371555.0   \n",
       "2010-04-01          21857.0  ...       104371555.0   \n",
       "2010-05-01          21739.0  ...       104371555.0   \n",
       "...                     ...  ...               ...   \n",
       "2021-08-01          46416.0  ...       218316665.0   \n",
       "2021-09-01          45514.0  ...       218316665.0   \n",
       "2021-10-01          45839.0  ...       218316665.0   \n",
       "2021-11-01          46076.0  ...       218316665.0   \n",
       "2021-12-01          45904.0  ...       218316665.0   \n",
       "\n",
       "            benefits_vs_personal_expense  employment_ratio  \\\n",
       "date                                                         \n",
       "2010-01-01                         0.191           99001.0   \n",
       "2010-02-01                         0.191           99893.0   \n",
       "2010-03-01                         0.191           99678.0   \n",
       "2010-04-01                         0.191          101594.0   \n",
       "2010-05-01                         0.191          102073.0   \n",
       "...                                  ...               ...   \n",
       "2021-08-01                         0.293          171845.0   \n",
       "2021-09-01                         0.293          172771.0   \n",
       "2021-10-01                         0.293          173486.0   \n",
       "2021-11-01                         0.293          173831.0   \n",
       "2021-12-01                         0.293          173384.0   \n",
       "\n",
       "            employment_insurance_ratio  Average_Temp  Monthly_Rainfall  \\\n",
       "date                                                                     \n",
       "2010-01-01                    0.105377          -4.5              29.3   \n",
       "2010-02-01                    0.106197           1.4              55.3   \n",
       "2010-03-01                    0.105930           4.3              82.5   \n",
       "2010-04-01                    0.107879           9.5              62.8   \n",
       "2010-05-01                    0.108390          17.2             124.0   \n",
       "...                                ...           ...               ...   \n",
       "2021-08-01                    0.158984          25.9             211.2   \n",
       "2021-09-01                    0.159857          22.6             131.0   \n",
       "2021-10-01                    0.160599          15.6              57.0   \n",
       "2021-11-01                    0.160996           8.2              62.4   \n",
       "2021-12-01                    0.160637           0.6               7.9   \n",
       "\n",
       "            Average_Relative_Humadity  Ground_Temp  Average_Wind  \\\n",
       "date                                                               \n",
       "2010-01-01                       0.65         -1.2           2.3   \n",
       "2010-02-01                       0.59          1.4           2.4   \n",
       "2010-03-01                       0.59          5.0           2.9   \n",
       "2010-04-01                       0.54         10.8           2.9   \n",
       "2010-05-01                       0.62         18.7           2.6   \n",
       "...                               ...          ...           ...   \n",
       "2021-08-01                       0.74         28.2           2.1   \n",
       "2021-09-01                       0.71         24.6           2.3   \n",
       "2021-10-01                       0.70         16.7           2.1   \n",
       "2021-11-01                       0.68          7.9           2.1   \n",
       "2021-12-01                       0.62          0.8           2.3   \n",
       "\n",
       "            Average_Pressure  \n",
       "date                          \n",
       "2010-01-01            1013.6  \n",
       "2010-02-01            1010.7  \n",
       "2010-03-01            1009.6  \n",
       "2010-04-01            1007.4  \n",
       "2010-05-01            1000.6  \n",
       "...                      ...  \n",
       "2021-08-01             998.6  \n",
       "2021-09-01            1003.4  \n",
       "2021-10-01            1011.0  \n",
       "2021-11-01            1009.1  \n",
       "2021-12-01            1014.4  \n",
       "\n",
       "[144 rows x 25 columns]"
      ]
     },
     "execution_count": 3,
     "metadata": {},
     "output_type": "execute_result"
    }
   ],
   "source": [
    "# Read excel file using pandas\n",
    "df = pd.read_excel(open(f\"../../data/{city_data}\", 'rb'), sheet_name=\"training\", header=4, index_col=0)\n",
    "# Remove unnecessary columns for this analysis\n",
    "df = df.iloc[2:]\n",
    "# Change Date Format and Set Date as index\n",
    "df.index = pd.to_datetime(df.index.str.strip(), format='%Y-%m')\n",
    "df.index.name = \"date\"\n",
    "# Change data format from \"Object\" to \"Float\"\n",
    "df[\"water_supply\"] = df.water_supply.astype(float)\n",
    "df[\"Total_Population\"] = df.Total_Population.astype(float)\n",
    "# Delete unnecessary columns \n",
    "df.drop(columns=df.columns[19:21], inplace=True)\n",
    "df.drop(columns=df.columns[22:23], inplace=True)\n",
    "# Select clean data\n",
    "df = df.loc[\"2010-01-01\":]\n",
    "df"
   ]
  },
  {
   "cell_type": "markdown",
   "metadata": {},
   "source": [
    "### C. Hybrid Methods: Selection using Random Shuffling with Feature Engine"
   ]
  },
  {
   "cell_type": "markdown",
   "metadata": {},
   "source": [
    "* Split Data"
   ]
  },
  {
   "cell_type": "code",
   "execution_count": 4,
   "metadata": {},
   "outputs": [
    {
     "data": {
      "text/plain": [
       "((115, 24), (29, 24))"
      ]
     },
     "execution_count": 4,
     "metadata": {},
     "output_type": "execute_result"
    }
   ],
   "source": [
    "X_train, X_test, y_train, y_test = train_test_split(\n",
    "    df.drop(labels=['water_supply'], axis=1),\n",
    "    df['water_supply'],\n",
    "    test_size=0.2,\n",
    "    random_state=0)\n",
    "\n",
    "X_train = X_train.fillna(0)\n",
    "X_test = X_test.fillna(0)\n",
    "\n",
    "X_train.shape, X_test.shape"
   ]
  },
  {
   "cell_type": "markdown",
   "metadata": {},
   "source": [
    "#### Train ML algo with all features"
   ]
  },
  {
   "cell_type": "code",
   "execution_count": 5,
   "metadata": {
    "scrolled": true
   },
   "outputs": [],
   "source": [
    "# In this case, I will build Random Forests, but remember that\n",
    "# you can use this procedure for any machine learning algorithm\n",
    "\n",
    "# I build few and shallow trees to avoid overfitting\n",
    "rf = RandomForestRegressor(n_estimators=100,\n",
    "                           max_depth=3,\n",
    "                           random_state=2909,\n",
    "                           n_jobs=4)\n"
   ]
  },
  {
   "cell_type": "markdown",
   "metadata": {},
   "source": [
    "#### Shuffle features and asses performance drift"
   ]
  },
  {
   "cell_type": "code",
   "execution_count": 6,
   "metadata": {},
   "outputs": [
    {
     "data": {
      "text/html": [
       "<style>#sk-container-id-1 {color: black;background-color: white;}#sk-container-id-1 pre{padding: 0;}#sk-container-id-1 div.sk-toggleable {background-color: white;}#sk-container-id-1 label.sk-toggleable__label {cursor: pointer;display: block;width: 100%;margin-bottom: 0;padding: 0.3em;box-sizing: border-box;text-align: center;}#sk-container-id-1 label.sk-toggleable__label-arrow:before {content: \"▸\";float: left;margin-right: 0.25em;color: #696969;}#sk-container-id-1 label.sk-toggleable__label-arrow:hover:before {color: black;}#sk-container-id-1 div.sk-estimator:hover label.sk-toggleable__label-arrow:before {color: black;}#sk-container-id-1 div.sk-toggleable__content {max-height: 0;max-width: 0;overflow: hidden;text-align: left;background-color: #f0f8ff;}#sk-container-id-1 div.sk-toggleable__content pre {margin: 0.2em;color: black;border-radius: 0.25em;background-color: #f0f8ff;}#sk-container-id-1 input.sk-toggleable__control:checked~div.sk-toggleable__content {max-height: 200px;max-width: 100%;overflow: auto;}#sk-container-id-1 input.sk-toggleable__control:checked~label.sk-toggleable__label-arrow:before {content: \"▾\";}#sk-container-id-1 div.sk-estimator input.sk-toggleable__control:checked~label.sk-toggleable__label {background-color: #d4ebff;}#sk-container-id-1 div.sk-label input.sk-toggleable__control:checked~label.sk-toggleable__label {background-color: #d4ebff;}#sk-container-id-1 input.sk-hidden--visually {border: 0;clip: rect(1px 1px 1px 1px);clip: rect(1px, 1px, 1px, 1px);height: 1px;margin: -1px;overflow: hidden;padding: 0;position: absolute;width: 1px;}#sk-container-id-1 div.sk-estimator {font-family: monospace;background-color: #f0f8ff;border: 1px dotted black;border-radius: 0.25em;box-sizing: border-box;margin-bottom: 0.5em;}#sk-container-id-1 div.sk-estimator:hover {background-color: #d4ebff;}#sk-container-id-1 div.sk-parallel-item::after {content: \"\";width: 100%;border-bottom: 1px solid gray;flex-grow: 1;}#sk-container-id-1 div.sk-label:hover label.sk-toggleable__label {background-color: #d4ebff;}#sk-container-id-1 div.sk-serial::before {content: \"\";position: absolute;border-left: 1px solid gray;box-sizing: border-box;top: 0;bottom: 0;left: 50%;z-index: 0;}#sk-container-id-1 div.sk-serial {display: flex;flex-direction: column;align-items: center;background-color: white;padding-right: 0.2em;padding-left: 0.2em;position: relative;}#sk-container-id-1 div.sk-item {position: relative;z-index: 1;}#sk-container-id-1 div.sk-parallel {display: flex;align-items: stretch;justify-content: center;background-color: white;position: relative;}#sk-container-id-1 div.sk-item::before, #sk-container-id-1 div.sk-parallel-item::before {content: \"\";position: absolute;border-left: 1px solid gray;box-sizing: border-box;top: 0;bottom: 0;left: 50%;z-index: -1;}#sk-container-id-1 div.sk-parallel-item {display: flex;flex-direction: column;z-index: 1;position: relative;background-color: white;}#sk-container-id-1 div.sk-parallel-item:first-child::after {align-self: flex-end;width: 50%;}#sk-container-id-1 div.sk-parallel-item:last-child::after {align-self: flex-start;width: 50%;}#sk-container-id-1 div.sk-parallel-item:only-child::after {width: 0;}#sk-container-id-1 div.sk-dashed-wrapped {border: 1px dashed gray;margin: 0 0.4em 0.5em 0.4em;box-sizing: border-box;padding-bottom: 0.4em;background-color: white;}#sk-container-id-1 div.sk-label label {font-family: monospace;font-weight: bold;display: inline-block;line-height: 1.2em;}#sk-container-id-1 div.sk-label-container {text-align: center;}#sk-container-id-1 div.sk-container {/* jupyter's `normalize.less` sets `[hidden] { display: none; }` but bootstrap.min.css set `[hidden] { display: none !important; }` so we also need the `!important` here to be able to override the default hidden behavior on the sphinx rendered scikit-learn.org. See: https://github.com/scikit-learn/scikit-learn/issues/21755 */display: inline-block !important;position: relative;}#sk-container-id-1 div.sk-text-repr-fallback {display: none;}</style><div id=\"sk-container-id-1\" class=\"sk-top-container\"><div class=\"sk-text-repr-fallback\"><pre>SelectByShuffling(estimator=RandomForestRegressor(max_depth=3, n_jobs=4,\n",
       "                                                  random_state=2909),\n",
       "                  random_state=1, scoring=&#x27;neg_root_mean_squared_error&#x27;)</pre><b>In a Jupyter environment, please rerun this cell to show the HTML representation or trust the notebook. <br />On GitHub, the HTML representation is unable to render, please try loading this page with nbviewer.org.</b></div><div class=\"sk-container\" hidden><div class=\"sk-item sk-dashed-wrapped\"><div class=\"sk-label-container\"><div class=\"sk-label sk-toggleable\"><input class=\"sk-toggleable__control sk-hidden--visually\" id=\"sk-estimator-id-1\" type=\"checkbox\" ><label for=\"sk-estimator-id-1\" class=\"sk-toggleable__label sk-toggleable__label-arrow\">SelectByShuffling</label><div class=\"sk-toggleable__content\"><pre>SelectByShuffling(estimator=RandomForestRegressor(max_depth=3, n_jobs=4,\n",
       "                                                  random_state=2909),\n",
       "                  random_state=1, scoring=&#x27;neg_root_mean_squared_error&#x27;)</pre></div></div></div><div class=\"sk-parallel\"><div class=\"sk-parallel-item\"><div class=\"sk-item\"><div class=\"sk-label-container\"><div class=\"sk-label sk-toggleable\"><input class=\"sk-toggleable__control sk-hidden--visually\" id=\"sk-estimator-id-2\" type=\"checkbox\" ><label for=\"sk-estimator-id-2\" class=\"sk-toggleable__label sk-toggleable__label-arrow\">estimator: RandomForestRegressor</label><div class=\"sk-toggleable__content\"><pre>RandomForestRegressor(max_depth=3, n_jobs=4, random_state=2909)</pre></div></div></div><div class=\"sk-serial\"><div class=\"sk-item\"><div class=\"sk-estimator sk-toggleable\"><input class=\"sk-toggleable__control sk-hidden--visually\" id=\"sk-estimator-id-3\" type=\"checkbox\" ><label for=\"sk-estimator-id-3\" class=\"sk-toggleable__label sk-toggleable__label-arrow\">RandomForestRegressor</label><div class=\"sk-toggleable__content\"><pre>RandomForestRegressor(max_depth=3, n_jobs=4, random_state=2909)</pre></div></div></div></div></div></div></div></div></div></div>"
      ],
      "text/plain": [
       "SelectByShuffling(estimator=RandomForestRegressor(max_depth=3, n_jobs=4,\n",
       "                                                  random_state=2909),\n",
       "                  random_state=1, scoring='neg_root_mean_squared_error')"
      ]
     },
     "execution_count": 6,
     "metadata": {},
     "output_type": "execute_result"
    }
   ],
   "source": [
    "sel = SelectByShuffling(\n",
    "    variables=None, # automatically examines all numerical variables\n",
    "    estimator=rf, # the estimator\n",
    "    scoring='neg_root_mean_squared_error', # the performance metric\n",
    "    threshold=None, # threshold will be mean value of metric accross features\n",
    "    cv=3,#  cross validation\n",
    "    random_state=1 # seed\n",
    ")\n",
    "\n",
    "sel.fit(X_train, y_train)"
   ]
  },
  {
   "cell_type": "code",
   "execution_count": 7,
   "metadata": {
    "scrolled": true
   },
   "outputs": [
    {
     "data": {
      "text/plain": [
       "-7251.054776040931"
      ]
     },
     "execution_count": 7,
     "metadata": {},
     "output_type": "execute_result"
    }
   ],
   "source": [
    "# performance of model trained using all features\n",
    "\n",
    "sel.initial_model_performance_"
   ]
  },
  {
   "cell_type": "code",
   "execution_count": 8,
   "metadata": {},
   "outputs": [
    {
     "data": {
      "text/plain": [
       "<Axes: >"
      ]
     },
     "execution_count": 8,
     "metadata": {},
     "output_type": "execute_result"
    },
    {
     "data": {
      "image/png": "[encoded data removed]",
      "text/plain": [
       "<Figure size 1800x500 with 1 Axes>"
      ]
     },
     "metadata": {},
     "output_type": "display_data"
    }
   ],
   "source": [
    "# performance drifts\n",
    "\n",
    "pd.Series(sel.performance_drifts_).sort_values(ascending=False).plot.bar(figsize=(18,5))"
   ]
  },
  {
   "cell_type": "code",
   "execution_count": 9,
   "metadata": {},
   "outputs": [
    {
     "data": {
      "text/plain": [
       "['Total_Population',\n",
       " 'Households',\n",
       " 'Population_per_Households',\n",
       " 'Female_Population',\n",
       " 'Population_aging_Ratio',\n",
       " 'Power_usage',\n",
       " 'Business_above_100',\n",
       " 'complex_area',\n",
       " 'annual_household_income',\n",
       " 'High_School_Graduate_num',\n",
       " 'High_School_Graduate_ratio',\n",
       " 'personal_expense',\n",
       " 'benefits_vs_personal_expense',\n",
       " 'employment_ratio',\n",
       " 'employment_insurance_ratio',\n",
       " 'Monthly_Rainfall',\n",
       " 'Average_Relative_Humadity',\n",
       " 'Average_Wind',\n",
       " 'Average_Pressure']"
      ]
     },
     "execution_count": 9,
     "metadata": {},
     "output_type": "execute_result"
    }
   ],
   "source": [
    "sel.features_to_drop_"
   ]
  },
  {
   "cell_type": "code",
   "execution_count": 10,
   "metadata": {},
   "outputs": [
    {
     "data": {
      "text/plain": [
       "19"
      ]
     },
     "execution_count": 10,
     "metadata": {},
     "output_type": "execute_result"
    }
   ],
   "source": [
    "len(sel.features_to_drop_)"
   ]
  },
  {
   "cell_type": "code",
   "execution_count": 11,
   "metadata": {},
   "outputs": [
    {
     "data": {
      "text/plain": [
       "((115, 5), (29, 5))"
      ]
     },
     "execution_count": 11,
     "metadata": {},
     "output_type": "execute_result"
    }
   ],
   "source": [
    "# select the features\n",
    "\n",
    "X_train = sel.transform(X_train)\n",
    "X_test = sel.transform(X_test)\n",
    "\n",
    "X_train.shape, X_test.shape"
   ]
  },
  {
   "cell_type": "code",
   "execution_count": 12,
   "metadata": {},
   "outputs": [
    {
     "data": {
      "text/plain": [
       "Index(['Male_Population', 'Male_Female_Ratio', 'Num_of_Business',\n",
       "       'Average_Temp', 'Ground_Temp'],\n",
       "      dtype='object')"
      ]
     },
     "execution_count": 12,
     "metadata": {},
     "output_type": "execute_result"
    }
   ],
   "source": [
    "X_train.columns"
   ]
  },
  {
   "cell_type": "code",
   "execution_count": 13,
   "metadata": {},
   "outputs": [
    {
     "data": {
      "text/html": [
       "<div>\n",
       "<style scoped>\n",
       "    .dataframe tbody tr th:only-of-type {\n",
       "        vertical-align: middle;\n",
       "    }\n",
       "\n",
       "    .dataframe tbody tr th {\n",
       "        vertical-align: top;\n",
       "    }\n",
       "\n",
       "    .dataframe thead th {\n",
       "        text-align: right;\n",
       "    }\n",
       "</style>\n",
       "<table border=\"1\" class=\"dataframe\">\n",
       "  <thead>\n",
       "    <tr style=\"text-align: right;\">\n",
       "      <th></th>\n",
       "      <th>hybrid shuffle with Feature Engine</th>\n",
       "    </tr>\n",
       "  </thead>\n",
       "  <tbody>\n",
       "    <tr>\n",
       "      <th>0</th>\n",
       "      <td>[Male_Population, Male_Female_Ratio, Num_of_Bu...</td>\n",
       "    </tr>\n",
       "  </tbody>\n",
       "</table>\n",
       "</div>"
      ],
      "text/plain": [
       "                  hybrid shuffle with Feature Engine\n",
       "0  [Male_Population, Male_Female_Ratio, Num_of_Bu..."
      ]
     },
     "execution_count": 13,
     "metadata": {},
     "output_type": "execute_result"
    }
   ],
   "source": [
    "results_f = pd.DataFrame()\n",
    "results_f[\"hybrid shuffle with Feature Engine\"] = [list(X_train.columns.values)]\n",
    "results_f.to_csv(f'./results/{CITY_NAME_Eng}_hybrid_shuffle_with_FE_results.csv')\n",
    "results_f"
   ]
  },
  {
   "cell_type": "code",
   "execution_count": 14,
   "metadata": {},
   "outputs": [
    {
     "name": "stdout",
     "output_type": "stream",
     "text": [
      "train rmse:  4931.258664839631\n",
      "train r2:  0.9476149388487761\n",
      "\n",
      "test rmse:  9553.084178741345\n",
      "test r2:  0.8324587721194511\n"
     ]
    }
   ],
   "source": [
    "# check model performance using only selected features\n",
    "rf.fit(X_train, y_train)\n",
    "\n",
    "# print performance metrics\n",
    "print('train rmse: ', mean_squared_error(y_train, rf.predict(X_train), squared=False))\n",
    "print('train r2: ', r2_score(y_train, (rf.predict(X_train))))\n",
    "print()\n",
    "print('test rmse: ', mean_squared_error(y_test, rf.predict(X_test), squared=False))\n",
    "print('test r2: ', r2_score(y_test, rf.predict(X_test)))"
   ]
  }
 ],
 "metadata": {
  "kernelspec": {
   "display_name": "ts",
   "language": "python",
   "name": "python3"
  },
  "language_info": {
   "codemirror_mode": {
    "name": "ipython",
    "version": 3
   },
   "file_extension": ".py",
   "mimetype": "text/x-python",
   "name": "python",
   "nbconvert_exporter": "python",
   "pygments_lexer": "ipython3",
   "version": "3.8.17"
  },
  "toc": {
   "base_numbering": 1,
   "nav_menu": {},
   "number_sections": true,
   "sideBar": true,
   "skip_h1_title": false,
   "title_cell": "Table of Contents",
   "title_sidebar": "Contents",
   "toc_cell": false,
   "toc_position": {},
   "toc_section_display": "block",
   "toc_window_display": true
  }
 },
 "nbformat": 4,
 "nbformat_minor": 2
}
