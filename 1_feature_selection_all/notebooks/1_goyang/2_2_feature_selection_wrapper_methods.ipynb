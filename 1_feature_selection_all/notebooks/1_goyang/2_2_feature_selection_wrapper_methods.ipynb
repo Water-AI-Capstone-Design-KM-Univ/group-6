{
 "cells": [
  {
   "cell_type": "markdown",
   "metadata": {},
   "source": [
    "## 2-2. Feature Selection Using Wrapper Method"
   ]
  },
  {
   "cell_type": "markdown",
   "metadata": {},
   "source": [
    "### A. Import Python libraries"
   ]
  },
  {
   "cell_type": "code",
   "execution_count": 1,
   "metadata": {},
   "outputs": [],
   "source": [
    "import pandas as pd\n",
    "import numpy as np\n",
    "import category_encoders as ce\n",
    "from feature_selection import filter_method as ft\n",
    "\n",
    "from sklearn.model_selection import train_test_split\n",
    "from sklearn.datasets import fetch_openml\n",
    "from sklearn.feature_selection import RFE\n",
    "from sklearn.linear_model import LogisticRegression\n",
    "from sklearn.feature_selection import SelectKBest, SelectPercentile, mutual_info_classif\n",
    "from sklearn.ensemble import RandomForestRegressor, RandomForestClassifier\n",
    "from sklearn.metrics import roc_auc_score, r2_score, mean_squared_error\n",
    "from mlxtend.feature_selection import SequentialFeatureSelector as SFS\n",
    "from mlxtend.feature_selection import ExhaustiveFeatureSelector as EFS\n",
    "import csv\n",
    "\n",
    "import warnings\n",
    "\n",
    "warnings.simplefilter(\"ignore\", DeprecationWarning)\n",
    "warnings.simplefilter(\"ignore\", FutureWarning, )\n",
    "%matplotlib inline"
   ]
  },
  {
   "cell_type": "markdown",
   "metadata": {},
   "source": [
    "### B. Set City Name and Import City Data"
   ]
  },
  {
   "cell_type": "code",
   "execution_count": 2,
   "metadata": {},
   "outputs": [],
   "source": [
    "# set city name\n",
    "city_data = \"1_goyang_city.xlsx\"\n",
    "CITY_NAME_Eng = \"GoYang-City\"\n",
    "results = {}"
   ]
  },
  {
   "cell_type": "code",
   "execution_count": 3,
   "metadata": {},
   "outputs": [
    {
     "data": {
      "text/html": [
       "<div>\n",
       "<style scoped>\n",
       "    .dataframe tbody tr th:only-of-type {\n",
       "        vertical-align: middle;\n",
       "    }\n",
       "\n",
       "    .dataframe tbody tr th {\n",
       "        vertical-align: top;\n",
       "    }\n",
       "\n",
       "    .dataframe thead th {\n",
       "        text-align: right;\n",
       "    }\n",
       "</style>\n",
       "<table border=\"1\" class=\"dataframe\">\n",
       "  <thead>\n",
       "    <tr style=\"text-align: right;\">\n",
       "      <th></th>\n",
       "      <th>water_supply</th>\n",
       "      <th>Total_Population</th>\n",
       "      <th>Households</th>\n",
       "      <th>Population_per_Households</th>\n",
       "      <th>Male_Population</th>\n",
       "      <th>Female_Population</th>\n",
       "      <th>Male_Female_Ratio</th>\n",
       "      <th>Population_aging_Ratio</th>\n",
       "      <th>Power_usage</th>\n",
       "      <th>Num_of_Business</th>\n",
       "      <th>...</th>\n",
       "      <th>personal_expense</th>\n",
       "      <th>benefits_vs_personal_expense</th>\n",
       "      <th>employment_ratio</th>\n",
       "      <th>employment_insurance_ratio</th>\n",
       "      <th>Average_Temp</th>\n",
       "      <th>Monthly_Rainfall</th>\n",
       "      <th>Average_Relative_Humadity</th>\n",
       "      <th>Ground_Temp</th>\n",
       "      <th>Average_Wind</th>\n",
       "      <th>Average_Pressure</th>\n",
       "    </tr>\n",
       "    <tr>\n",
       "      <th>date</th>\n",
       "      <th></th>\n",
       "      <th></th>\n",
       "      <th></th>\n",
       "      <th></th>\n",
       "      <th></th>\n",
       "      <th></th>\n",
       "      <th></th>\n",
       "      <th></th>\n",
       "      <th></th>\n",
       "      <th></th>\n",
       "      <th></th>\n",
       "      <th></th>\n",
       "      <th></th>\n",
       "      <th></th>\n",
       "      <th></th>\n",
       "      <th></th>\n",
       "      <th></th>\n",
       "      <th></th>\n",
       "      <th></th>\n",
       "      <th></th>\n",
       "      <th></th>\n",
       "    </tr>\n",
       "  </thead>\n",
       "  <tbody>\n",
       "    <tr>\n",
       "      <th>2010-01-01</th>\n",
       "      <td>282265.709677</td>\n",
       "      <td>939497.0</td>\n",
       "      <td>353741.0</td>\n",
       "      <td>2.655889</td>\n",
       "      <td>463878.0</td>\n",
       "      <td>475619.0</td>\n",
       "      <td>0.975314</td>\n",
       "      <td>0.088</td>\n",
       "      <td>434436000.0</td>\n",
       "      <td>20326.0</td>\n",
       "      <td>...</td>\n",
       "      <td>104371555.0</td>\n",
       "      <td>0.191</td>\n",
       "      <td>99001.0</td>\n",
       "      <td>0.105377</td>\n",
       "      <td>-4.5</td>\n",
       "      <td>29.3</td>\n",
       "      <td>0.65</td>\n",
       "      <td>-1.2</td>\n",
       "      <td>2.3</td>\n",
       "      <td>1013.6</td>\n",
       "    </tr>\n",
       "    <tr>\n",
       "      <th>2010-02-01</th>\n",
       "      <td>273685.892857</td>\n",
       "      <td>940639.0</td>\n",
       "      <td>354266.0</td>\n",
       "      <td>2.655177</td>\n",
       "      <td>464518.0</td>\n",
       "      <td>476121.0</td>\n",
       "      <td>0.975630</td>\n",
       "      <td>0.088</td>\n",
       "      <td>418156000.0</td>\n",
       "      <td>20685.0</td>\n",
       "      <td>...</td>\n",
       "      <td>104371555.0</td>\n",
       "      <td>0.191</td>\n",
       "      <td>99893.0</td>\n",
       "      <td>0.106197</td>\n",
       "      <td>1.4</td>\n",
       "      <td>55.3</td>\n",
       "      <td>0.59</td>\n",
       "      <td>1.4</td>\n",
       "      <td>2.4</td>\n",
       "      <td>1010.7</td>\n",
       "    </tr>\n",
       "    <tr>\n",
       "      <th>2010-03-01</th>\n",
       "      <td>269918.193548</td>\n",
       "      <td>940982.0</td>\n",
       "      <td>354003.0</td>\n",
       "      <td>2.658119</td>\n",
       "      <td>464740.0</td>\n",
       "      <td>476242.0</td>\n",
       "      <td>0.975848</td>\n",
       "      <td>0.088</td>\n",
       "      <td>346653000.0</td>\n",
       "      <td>20809.0</td>\n",
       "      <td>...</td>\n",
       "      <td>104371555.0</td>\n",
       "      <td>0.191</td>\n",
       "      <td>99678.0</td>\n",
       "      <td>0.105930</td>\n",
       "      <td>4.3</td>\n",
       "      <td>82.5</td>\n",
       "      <td>0.59</td>\n",
       "      <td>5.0</td>\n",
       "      <td>2.9</td>\n",
       "      <td>1009.6</td>\n",
       "    </tr>\n",
       "    <tr>\n",
       "      <th>2010-04-01</th>\n",
       "      <td>274462.700000</td>\n",
       "      <td>941737.0</td>\n",
       "      <td>354192.0</td>\n",
       "      <td>2.658832</td>\n",
       "      <td>465148.0</td>\n",
       "      <td>476589.0</td>\n",
       "      <td>0.975994</td>\n",
       "      <td>0.088</td>\n",
       "      <td>356701000.0</td>\n",
       "      <td>21857.0</td>\n",
       "      <td>...</td>\n",
       "      <td>104371555.0</td>\n",
       "      <td>0.191</td>\n",
       "      <td>101594.0</td>\n",
       "      <td>0.107879</td>\n",
       "      <td>9.5</td>\n",
       "      <td>62.8</td>\n",
       "      <td>0.54</td>\n",
       "      <td>10.8</td>\n",
       "      <td>2.9</td>\n",
       "      <td>1007.4</td>\n",
       "    </tr>\n",
       "    <tr>\n",
       "      <th>2010-05-01</th>\n",
       "      <td>288537.806452</td>\n",
       "      <td>941724.0</td>\n",
       "      <td>354157.0</td>\n",
       "      <td>2.659058</td>\n",
       "      <td>465110.0</td>\n",
       "      <td>476614.0</td>\n",
       "      <td>0.975863</td>\n",
       "      <td>0.089</td>\n",
       "      <td>313793000.0</td>\n",
       "      <td>21739.0</td>\n",
       "      <td>...</td>\n",
       "      <td>104371555.0</td>\n",
       "      <td>0.191</td>\n",
       "      <td>102073.0</td>\n",
       "      <td>0.108390</td>\n",
       "      <td>17.2</td>\n",
       "      <td>124.0</td>\n",
       "      <td>0.62</td>\n",
       "      <td>18.7</td>\n",
       "      <td>2.6</td>\n",
       "      <td>1000.6</td>\n",
       "    </tr>\n",
       "    <tr>\n",
       "      <th>...</th>\n",
       "      <td>...</td>\n",
       "      <td>...</td>\n",
       "      <td>...</td>\n",
       "      <td>...</td>\n",
       "      <td>...</td>\n",
       "      <td>...</td>\n",
       "      <td>...</td>\n",
       "      <td>...</td>\n",
       "      <td>...</td>\n",
       "      <td>...</td>\n",
       "      <td>...</td>\n",
       "      <td>...</td>\n",
       "      <td>...</td>\n",
       "      <td>...</td>\n",
       "      <td>...</td>\n",
       "      <td>...</td>\n",
       "      <td>...</td>\n",
       "      <td>...</td>\n",
       "      <td>...</td>\n",
       "      <td>...</td>\n",
       "      <td>...</td>\n",
       "    </tr>\n",
       "    <tr>\n",
       "      <th>2021-08-01</th>\n",
       "      <td>354382.451613</td>\n",
       "      <td>1080896.0</td>\n",
       "      <td>454793.0</td>\n",
       "      <td>2.376677</td>\n",
       "      <td>528972.0</td>\n",
       "      <td>551924.0</td>\n",
       "      <td>0.958415</td>\n",
       "      <td>0.140</td>\n",
       "      <td>487867544.0</td>\n",
       "      <td>46416.0</td>\n",
       "      <td>...</td>\n",
       "      <td>218316665.0</td>\n",
       "      <td>0.293</td>\n",
       "      <td>171845.0</td>\n",
       "      <td>0.158984</td>\n",
       "      <td>25.9</td>\n",
       "      <td>211.2</td>\n",
       "      <td>0.74</td>\n",
       "      <td>28.2</td>\n",
       "      <td>2.1</td>\n",
       "      <td>998.6</td>\n",
       "    </tr>\n",
       "    <tr>\n",
       "      <th>2021-09-01</th>\n",
       "      <td>343537.800000</td>\n",
       "      <td>1080787.0</td>\n",
       "      <td>455501.0</td>\n",
       "      <td>2.372743</td>\n",
       "      <td>528911.0</td>\n",
       "      <td>551876.0</td>\n",
       "      <td>0.958387</td>\n",
       "      <td>0.141</td>\n",
       "      <td>401433572.0</td>\n",
       "      <td>45514.0</td>\n",
       "      <td>...</td>\n",
       "      <td>218316665.0</td>\n",
       "      <td>0.293</td>\n",
       "      <td>172771.0</td>\n",
       "      <td>0.159857</td>\n",
       "      <td>22.6</td>\n",
       "      <td>131.0</td>\n",
       "      <td>0.71</td>\n",
       "      <td>24.6</td>\n",
       "      <td>2.3</td>\n",
       "      <td>1003.4</td>\n",
       "    </tr>\n",
       "    <tr>\n",
       "      <th>2021-10-01</th>\n",
       "      <td>340126.806452</td>\n",
       "      <td>1080240.0</td>\n",
       "      <td>455845.0</td>\n",
       "      <td>2.369753</td>\n",
       "      <td>528683.0</td>\n",
       "      <td>551557.0</td>\n",
       "      <td>0.958528</td>\n",
       "      <td>0.142</td>\n",
       "      <td>358286760.0</td>\n",
       "      <td>45839.0</td>\n",
       "      <td>...</td>\n",
       "      <td>218316665.0</td>\n",
       "      <td>0.293</td>\n",
       "      <td>173486.0</td>\n",
       "      <td>0.160599</td>\n",
       "      <td>15.6</td>\n",
       "      <td>57.0</td>\n",
       "      <td>0.70</td>\n",
       "      <td>16.7</td>\n",
       "      <td>2.1</td>\n",
       "      <td>1011.0</td>\n",
       "    </tr>\n",
       "    <tr>\n",
       "      <th>2021-11-01</th>\n",
       "      <td>335109.300000</td>\n",
       "      <td>1079722.0</td>\n",
       "      <td>456376.0</td>\n",
       "      <td>2.365861</td>\n",
       "      <td>528390.0</td>\n",
       "      <td>551332.0</td>\n",
       "      <td>0.958388</td>\n",
       "      <td>0.142</td>\n",
       "      <td>372991744.0</td>\n",
       "      <td>46076.0</td>\n",
       "      <td>...</td>\n",
       "      <td>218316665.0</td>\n",
       "      <td>0.293</td>\n",
       "      <td>173831.0</td>\n",
       "      <td>0.160996</td>\n",
       "      <td>8.2</td>\n",
       "      <td>62.4</td>\n",
       "      <td>0.68</td>\n",
       "      <td>7.9</td>\n",
       "      <td>2.1</td>\n",
       "      <td>1009.1</td>\n",
       "    </tr>\n",
       "    <tr>\n",
       "      <th>2021-12-01</th>\n",
       "      <td>333891.967742</td>\n",
       "      <td>1079353.0</td>\n",
       "      <td>456852.0</td>\n",
       "      <td>2.362588</td>\n",
       "      <td>528094.0</td>\n",
       "      <td>551259.0</td>\n",
       "      <td>0.957978</td>\n",
       "      <td>0.143</td>\n",
       "      <td>444563909.0</td>\n",
       "      <td>45904.0</td>\n",
       "      <td>...</td>\n",
       "      <td>218316665.0</td>\n",
       "      <td>0.293</td>\n",
       "      <td>173384.0</td>\n",
       "      <td>0.160637</td>\n",
       "      <td>0.6</td>\n",
       "      <td>7.9</td>\n",
       "      <td>0.62</td>\n",
       "      <td>0.8</td>\n",
       "      <td>2.3</td>\n",
       "      <td>1014.4</td>\n",
       "    </tr>\n",
       "  </tbody>\n",
       "</table>\n",
       "<p>144 rows × 25 columns</p>\n",
       "</div>"
      ],
      "text/plain": [
       "             water_supply  Total_Population  Households  \\\n",
       "date                                                      \n",
       "2010-01-01  282265.709677          939497.0    353741.0   \n",
       "2010-02-01  273685.892857          940639.0    354266.0   \n",
       "2010-03-01  269918.193548          940982.0    354003.0   \n",
       "2010-04-01  274462.700000          941737.0    354192.0   \n",
       "2010-05-01  288537.806452          941724.0    354157.0   \n",
       "...                   ...               ...         ...   \n",
       "2021-08-01  354382.451613         1080896.0    454793.0   \n",
       "2021-09-01  343537.800000         1080787.0    455501.0   \n",
       "2021-10-01  340126.806452         1080240.0    455845.0   \n",
       "2021-11-01  335109.300000         1079722.0    456376.0   \n",
       "2021-12-01  333891.967742         1079353.0    456852.0   \n",
       "\n",
       "            Population_per_Households  Male_Population  Female_Population  \\\n",
       "date                                                                        \n",
       "2010-01-01                   2.655889         463878.0           475619.0   \n",
       "2010-02-01                   2.655177         464518.0           476121.0   \n",
       "2010-03-01                   2.658119         464740.0           476242.0   \n",
       "2010-04-01                   2.658832         465148.0           476589.0   \n",
       "2010-05-01                   2.659058         465110.0           476614.0   \n",
       "...                               ...              ...                ...   \n",
       "2021-08-01                   2.376677         528972.0           551924.0   \n",
       "2021-09-01                   2.372743         528911.0           551876.0   \n",
       "2021-10-01                   2.369753         528683.0           551557.0   \n",
       "2021-11-01                   2.365861         528390.0           551332.0   \n",
       "2021-12-01                   2.362588         528094.0           551259.0   \n",
       "\n",
       "            Male_Female_Ratio  Population_aging_Ratio  Power_usage  \\\n",
       "date                                                                 \n",
       "2010-01-01           0.975314                   0.088  434436000.0   \n",
       "2010-02-01           0.975630                   0.088  418156000.0   \n",
       "2010-03-01           0.975848                   0.088  346653000.0   \n",
       "2010-04-01           0.975994                   0.088  356701000.0   \n",
       "2010-05-01           0.975863                   0.089  313793000.0   \n",
       "...                       ...                     ...          ...   \n",
       "2021-08-01           0.958415                   0.140  487867544.0   \n",
       "2021-09-01           0.958387                   0.141  401433572.0   \n",
       "2021-10-01           0.958528                   0.142  358286760.0   \n",
       "2021-11-01           0.958388                   0.142  372991744.0   \n",
       "2021-12-01           0.957978                   0.143  444563909.0   \n",
       "\n",
       "            Num_of_Business  ...  personal_expense  \\\n",
       "date                         ...                     \n",
       "2010-01-01          20326.0  ...       104371555.0   \n",
       "2010-02-01          20685.0  ...       104371555.0   \n",
       "2010-03-01          20809.0  ...       104371555.0   \n",
       "2010-04-01          21857.0  ...       104371555.0   \n",
       "2010-05-01          21739.0  ...       104371555.0   \n",
       "...                     ...  ...               ...   \n",
       "2021-08-01          46416.0  ...       218316665.0   \n",
       "2021-09-01          45514.0  ...       218316665.0   \n",
       "2021-10-01          45839.0  ...       218316665.0   \n",
       "2021-11-01          46076.0  ...       218316665.0   \n",
       "2021-12-01          45904.0  ...       218316665.0   \n",
       "\n",
       "            benefits_vs_personal_expense  employment_ratio  \\\n",
       "date                                                         \n",
       "2010-01-01                         0.191           99001.0   \n",
       "2010-02-01                         0.191           99893.0   \n",
       "2010-03-01                         0.191           99678.0   \n",
       "2010-04-01                         0.191          101594.0   \n",
       "2010-05-01                         0.191          102073.0   \n",
       "...                                  ...               ...   \n",
       "2021-08-01                         0.293          171845.0   \n",
       "2021-09-01                         0.293          172771.0   \n",
       "2021-10-01                         0.293          173486.0   \n",
       "2021-11-01                         0.293          173831.0   \n",
       "2021-12-01                         0.293          173384.0   \n",
       "\n",
       "            employment_insurance_ratio  Average_Temp  Monthly_Rainfall  \\\n",
       "date                                                                     \n",
       "2010-01-01                    0.105377          -4.5              29.3   \n",
       "2010-02-01                    0.106197           1.4              55.3   \n",
       "2010-03-01                    0.105930           4.3              82.5   \n",
       "2010-04-01                    0.107879           9.5              62.8   \n",
       "2010-05-01                    0.108390          17.2             124.0   \n",
       "...                                ...           ...               ...   \n",
       "2021-08-01                    0.158984          25.9             211.2   \n",
       "2021-09-01                    0.159857          22.6             131.0   \n",
       "2021-10-01                    0.160599          15.6              57.0   \n",
       "2021-11-01                    0.160996           8.2              62.4   \n",
       "2021-12-01                    0.160637           0.6               7.9   \n",
       "\n",
       "            Average_Relative_Humadity  Ground_Temp  Average_Wind  \\\n",
       "date                                                               \n",
       "2010-01-01                       0.65         -1.2           2.3   \n",
       "2010-02-01                       0.59          1.4           2.4   \n",
       "2010-03-01                       0.59          5.0           2.9   \n",
       "2010-04-01                       0.54         10.8           2.9   \n",
       "2010-05-01                       0.62         18.7           2.6   \n",
       "...                               ...          ...           ...   \n",
       "2021-08-01                       0.74         28.2           2.1   \n",
       "2021-09-01                       0.71         24.6           2.3   \n",
       "2021-10-01                       0.70         16.7           2.1   \n",
       "2021-11-01                       0.68          7.9           2.1   \n",
       "2021-12-01                       0.62          0.8           2.3   \n",
       "\n",
       "            Average_Pressure  \n",
       "date                          \n",
       "2010-01-01            1013.6  \n",
       "2010-02-01            1010.7  \n",
       "2010-03-01            1009.6  \n",
       "2010-04-01            1007.4  \n",
       "2010-05-01            1000.6  \n",
       "...                      ...  \n",
       "2021-08-01             998.6  \n",
       "2021-09-01            1003.4  \n",
       "2021-10-01            1011.0  \n",
       "2021-11-01            1009.1  \n",
       "2021-12-01            1014.4  \n",
       "\n",
       "[144 rows x 25 columns]"
      ]
     },
     "execution_count": 3,
     "metadata": {},
     "output_type": "execute_result"
    }
   ],
   "source": [
    "# Read excel file using pandas\n",
    "df = pd.read_excel(open(f\"../../data/{city_data}\", 'rb'), sheet_name=\"training\", header=4, index_col=0)\n",
    "# Remove unnecessary columns for this analysis\n",
    "df = df.iloc[2:]\n",
    "# Change Date Format and Set Date as index\n",
    "df.index = pd.to_datetime(df.index.str.strip(), format='%Y-%m')\n",
    "df.index.name = \"date\"\n",
    "# Change data format from \"Object\" to \"Float\"\n",
    "df[\"water_supply\"] = df.water_supply.astype(float)\n",
    "df[\"Total_Population\"] = df.Total_Population.astype(float)\n",
    "# Delete unnecessary columns \n",
    "df.drop(columns=df.columns[19:21], inplace=True)\n",
    "df.drop(columns=df.columns[22:23], inplace=True)\n",
    "# Select clean data\n",
    "df = df.loc[\"2010-01-01\":]\n",
    "df"
   ]
  },
  {
   "cell_type": "markdown",
   "metadata": {},
   "source": [
    "### C. Wrapper Methods"
   ]
  },
  {
   "cell_type": "markdown",
   "metadata": {},
   "source": [
    "* Split Data"
   ]
  },
  {
   "cell_type": "code",
   "execution_count": 4,
   "metadata": {},
   "outputs": [
    {
     "data": {
      "text/plain": [
       "((115, 24), (29, 24))"
      ]
     },
     "execution_count": 4,
     "metadata": {},
     "output_type": "execute_result"
    }
   ],
   "source": [
    "X_train, X_test, y_train, y_test = train_test_split(\n",
    "    df.drop(labels=['water_supply'], axis=1),\n",
    "    df['water_supply'],\n",
    "    test_size=0.2,\n",
    "    random_state=0)\n",
    "\n",
    "X_train.shape, X_test.shape"
   ]
  },
  {
   "cell_type": "markdown",
   "metadata": {},
   "source": [
    "#### 1) Step forward feature selection"
   ]
  },
  {
   "cell_type": "markdown",
   "metadata": {},
   "source": [
    "#### - find correlated features"
   ]
  },
  {
   "cell_type": "code",
   "execution_count": 5,
   "metadata": {},
   "outputs": [
    {
     "name": "stdout",
     "output_type": "stream",
     "text": [
      "correlated features:  {'Population_per_Households', 'personal_expense', 'Male_Population', 'employment_insurance_ratio', 'Num_of_Business', 'Population_aging_Ratio', 'Average_Pressure', 'annual_household_income', 'Male_Female_Ratio', 'Female_Population', 'Households', 'benefits_vs_personal_expense', 'employment_ratio', 'Ground_Temp', 'High_School_Graduate_num'}\n",
      "correlated features:  15\n"
     ]
    }
   ],
   "source": [
    "# find and remove correlated features\n",
    "\n",
    "def correlation(dataset, threshold):\n",
    "    col_corr = set()  # Set of all the names of correlated columns\n",
    "    corr_matrix = dataset.corr()\n",
    "    for i in range(len(corr_matrix.columns)):\n",
    "        for j in range(i):\n",
    "            if abs(corr_matrix.iloc[i, j]) > threshold: # we are interested in absolute coeff value\n",
    "                colname = corr_matrix.columns[i]  # getting the name of column\n",
    "                col_corr.add(colname)\n",
    "    return col_corr\n",
    "\n",
    "corr_features = correlation(X_train, 0.8)\n",
    "print('correlated features: ', set(corr_features) )\n",
    "print('correlated features: ', len(set(corr_features)) )"
   ]
  },
  {
   "cell_type": "markdown",
   "metadata": {},
   "source": [
    "#### - removed correlated features"
   ]
  },
  {
   "cell_type": "code",
   "execution_count": 6,
   "metadata": {},
   "outputs": [
    {
     "data": {
      "text/plain": [
       "((115, 9), (29, 9))"
      ]
     },
     "execution_count": 6,
     "metadata": {},
     "output_type": "execute_result"
    }
   ],
   "source": [
    "# removed correlated features\n",
    "X_train.drop(labels=corr_features, axis=1, inplace=True)\n",
    "X_test.drop(labels=corr_features, axis=1, inplace=True)\n",
    "X_train.fillna(0, inplace=True)\n",
    "X_test.fillna(0, inplace=True)\n",
    "\n",
    "X_train.shape, X_test.shape"
   ]
  },
  {
   "cell_type": "code",
   "execution_count": 7,
   "metadata": {},
   "outputs": [
    {
     "data": {
      "text/plain": [
       "Index(['Total_Population', 'Power_usage', 'Business_above_100', 'complex_area',\n",
       "       'High_School_Graduate_ratio', 'Average_Temp', 'Monthly_Rainfall',\n",
       "       'Average_Relative_Humadity', 'Average_Wind'],\n",
       "      dtype='object')"
      ]
     },
     "execution_count": 7,
     "metadata": {},
     "output_type": "execute_result"
    }
   ],
   "source": [
    "X_train.columns"
   ]
  },
  {
   "cell_type": "markdown",
   "metadata": {},
   "source": [
    "#### - Step Forward Feature Selection: 5개"
   ]
  },
  {
   "cell_type": "code",
   "execution_count": 8,
   "metadata": {},
   "outputs": [
    {
     "name": "stderr",
     "output_type": "stream",
     "text": [
      "\n",
      "[2023-09-01 09:42:44] Features: 1/9 -- score: 0.6093864911312856\n",
      "[2023-09-01 09:42:50] Features: 2/9 -- score: 0.8976577547463245\n",
      "[2023-09-01 09:42:54] Features: 3/9 -- score: 0.8977105657262625\n",
      "[2023-09-01 09:42:58] Features: 4/9 -- score: 0.8956563925689062\n",
      "[2023-09-01 09:43:01] Features: 5/9 -- score: 0.8937401765163095\n",
      "[2023-09-01 09:43:03] Features: 6/9 -- score: 0.8889457950665651\n",
      "[2023-09-01 09:43:05] Features: 7/9 -- score: 0.885237851497253\n",
      "[2023-09-01 09:43:06] Features: 8/9 -- score: 0.8754718338106604\n",
      "[2023-09-01 09:43:07] Features: 9/9 -- score: 0.8718911876063906"
     ]
    }
   ],
   "source": [
    "# step forward feature selection\n",
    "\n",
    "sfs = SFS(RandomForestRegressor(n_estimators=200, n_jobs=4, random_state=10), \n",
    "           k_features=X_train.shape[1], \n",
    "           forward=True, \n",
    "           floating=False, \n",
    "           verbose=2,\n",
    "           scoring='r2',\n",
    "           cv=2)\n",
    "\n",
    "sfs = sfs.fit(X_train, y_train)"
   ]
  },
  {
   "cell_type": "markdown",
   "metadata": {},
   "source": [
    "From the logs above, we see that after ~9 features, adding more features does not really improve performance."
   ]
  },
  {
   "cell_type": "code",
   "execution_count": 9,
   "metadata": {},
   "outputs": [
    {
     "data": {
      "text/plain": [
       "(0, 1, 2, 3, 4, 5, 6, 7, 8)"
      ]
     },
     "execution_count": 9,
     "metadata": {},
     "output_type": "execute_result"
    }
   ],
   "source": [
    "# indices of the selected columns\n",
    "sfs.k_feature_idx_"
   ]
  },
  {
   "cell_type": "code",
   "execution_count": 10,
   "metadata": {},
   "outputs": [
    {
     "data": {
      "text/plain": [
       "Index(['Total_Population', 'Power_usage', 'Business_above_100', 'complex_area',\n",
       "       'High_School_Graduate_ratio', 'Average_Temp', 'Monthly_Rainfall',\n",
       "       'Average_Relative_Humadity', 'Average_Wind'],\n",
       "      dtype='object')"
      ]
     },
     "execution_count": 10,
     "metadata": {},
     "output_type": "execute_result"
    }
   ],
   "source": [
    "# selected columns\n",
    "results = {\"step forward feature selection\": X_train.columns[list(sfs.k_feature_idx_)].values}\n",
    "\n",
    "X_train.columns[list(sfs.k_feature_idx_)]"
   ]
  },
  {
   "cell_type": "markdown",
   "metadata": {},
   "source": [
    "#### - Compare performance of feature subsets"
   ]
  },
  {
   "cell_type": "code",
   "execution_count": 11,
   "metadata": {},
   "outputs": [],
   "source": [
    "# function to train random forests and evaluate the performance\n",
    "\n",
    "def run_randomForests(X_train, X_test, y_train, y_test):\n",
    "    \n",
    "    rf = RandomForestRegressor(n_estimators=200, random_state=39, max_depth=4)\n",
    "    rf.fit(X_train, y_train)\n",
    "\n",
    "    print('Train set')\n",
    "    pred = rf.predict(X_train)\n",
    "    print('Random Forests R2: {}'.format(r2_score(y_train, pred)))\n",
    "    \n",
    "    print('Test set')\n",
    "    pred = rf.predict(X_test)\n",
    "    print('Random Forests R2: {}'.format(r2_score(y_test, pred)))"
   ]
  },
  {
   "cell_type": "code",
   "execution_count": 12,
   "metadata": {},
   "outputs": [
    {
     "data": {
      "text/plain": [
       "Index(['Total_Population', 'Power_usage', 'Business_above_100', 'complex_area',\n",
       "       'High_School_Graduate_ratio', 'Average_Temp', 'Monthly_Rainfall',\n",
       "       'Average_Relative_Humadity', 'Average_Wind'],\n",
       "      dtype='object')"
      ]
     },
     "execution_count": 12,
     "metadata": {},
     "output_type": "execute_result"
    }
   ],
   "source": [
    "selected_feat = X_train.columns[list(sfs.k_feature_idx_)]\n",
    "selected_feat"
   ]
  },
  {
   "cell_type": "code",
   "execution_count": 13,
   "metadata": {},
   "outputs": [
    {
     "name": "stdout",
     "output_type": "stream",
     "text": [
      "Train set\n",
      "Random Forests R2: 0.9697862769022803\n",
      "Test set\n",
      "Random Forests R2: 0.9273250474798512\n"
     ]
    }
   ],
   "source": [
    "# evaluate performance of algorithm built\n",
    "# using selected features\n",
    "\n",
    "run_randomForests(X_train[selected_feat],\n",
    "                  X_test[selected_feat],\n",
    "                  y_train, y_test)"
   ]
  },
  {
   "cell_type": "code",
   "execution_count": 14,
   "metadata": {},
   "outputs": [
    {
     "name": "stdout",
     "output_type": "stream",
     "text": [
      "Train set\n",
      "Random Forests R2: 0.9697862769022803\n",
      "Test set\n",
      "Random Forests R2: 0.9273250474798512\n"
     ]
    }
   ],
   "source": [
    "# and for comparison, we train random forests using\n",
    "# all features (except the correlated ones, which we removed already)\n",
    "\n",
    "run_randomForests(X_train,\n",
    "                  X_test,\n",
    "                  y_train, y_test)"
   ]
  },
  {
   "cell_type": "markdown",
   "metadata": {},
   "source": [
    "#### 2) Step backward feature selection\n"
   ]
  },
  {
   "cell_type": "markdown",
   "metadata": {},
   "source": [
    "#### - Step Backward Feature Selection"
   ]
  },
  {
   "cell_type": "code",
   "execution_count": 15,
   "metadata": {},
   "outputs": [],
   "source": [
    "# step backward feature selection algorithm\n",
    "\n",
    "sfs = SFS(RandomForestRegressor(n_estimators=10, n_jobs=4, random_state=10), \n",
    "           k_features=X_train.shape[1], \n",
    "           forward=False, \n",
    "           floating=False, \n",
    "           verbose=2,\n",
    "           scoring='r2',\n",
    "           cv=2)\n",
    "\n",
    "sfs = sfs.fit(X_train, y_train)"
   ]
  },
  {
   "cell_type": "code",
   "execution_count": 16,
   "metadata": {},
   "outputs": [
    {
     "data": {
      "text/plain": [
       "('Total_Population',\n",
       " 'Power_usage',\n",
       " 'Business_above_100',\n",
       " 'complex_area',\n",
       " 'High_School_Graduate_ratio',\n",
       " 'Average_Temp',\n",
       " 'Monthly_Rainfall',\n",
       " 'Average_Relative_Humadity',\n",
       " 'Average_Wind')"
      ]
     },
     "execution_count": 16,
     "metadata": {},
     "output_type": "execute_result"
    }
   ],
   "source": [
    "sfs.k_feature_names_"
   ]
  },
  {
   "cell_type": "markdown",
   "metadata": {},
   "source": [
    "#### - Compare performance of feature subsets"
   ]
  },
  {
   "cell_type": "code",
   "execution_count": 17,
   "metadata": {},
   "outputs": [],
   "source": [
    "# function to train random forests and evaluate the performance\n",
    "\n",
    "def run_randomForests(X_train, X_test, y_train, y_test):\n",
    "    \n",
    "    rf = RandomForestRegressor(n_estimators=200, random_state=39, max_depth=4)\n",
    "    rf.fit(X_train, y_train)\n",
    "\n",
    "    print('Train set')\n",
    "    pred = rf.predict(X_train)\n",
    "    print('Random Forests R2: {}'.format(r2_score(y_train, pred)))\n",
    "    \n",
    "    print('Test set')\n",
    "    pred = rf.predict(X_test)\n",
    "    print('Random Forests R2: {}'.format(r2_score(y_test, pred)))"
   ]
  },
  {
   "cell_type": "code",
   "execution_count": 18,
   "metadata": {},
   "outputs": [
    {
     "data": {
      "text/plain": [
       "['Total_Population',\n",
       " 'Power_usage',\n",
       " 'Business_above_100',\n",
       " 'complex_area',\n",
       " 'High_School_Graduate_ratio',\n",
       " 'Average_Temp',\n",
       " 'Monthly_Rainfall',\n",
       " 'Average_Relative_Humadity',\n",
       " 'Average_Wind']"
      ]
     },
     "execution_count": 18,
     "metadata": {},
     "output_type": "execute_result"
    }
   ],
   "source": [
    "selected_feat= list(sfs.k_feature_names_)\n",
    "results[\"step backward feature selection\"] = selected_feat\n",
    "\n",
    "selected_feat"
   ]
  },
  {
   "cell_type": "code",
   "execution_count": 19,
   "metadata": {},
   "outputs": [
    {
     "name": "stdout",
     "output_type": "stream",
     "text": [
      "Train set\n",
      "Random Forests R2: 0.9697862769022803\n",
      "Test set\n",
      "Random Forests R2: 0.9273250474798512\n"
     ]
    }
   ],
   "source": [
    "# evaluate performance of algorithm built\n",
    "# using selected features\n",
    "\n",
    "run_randomForests(X_train[selected_feat],\n",
    "                  X_test[selected_feat],\n",
    "                  y_train, y_test)"
   ]
  },
  {
   "cell_type": "code",
   "execution_count": 20,
   "metadata": {},
   "outputs": [
    {
     "name": "stdout",
     "output_type": "stream",
     "text": [
      "Train set\n",
      "Random Forests R2: 0.9697862769022803\n",
      "Test set\n",
      "Random Forests R2: 0.9273250474798512\n"
     ]
    }
   ],
   "source": [
    "# and for comparison, we train random forests using\n",
    "# all features (except the correlated ones, which we removed already)\n",
    "\n",
    "run_randomForests(X_train,\n",
    "                  X_test,\n",
    "                  y_train, y_test)"
   ]
  },
  {
   "cell_type": "markdown",
   "metadata": {},
   "source": [
    "#### 3)  Exhaustive Feature Selection"
   ]
  },
  {
   "cell_type": "code",
   "execution_count": 21,
   "metadata": {},
   "outputs": [
    {
     "name": "stderr",
     "output_type": "stream",
     "text": [
      "Features: 1/1"
     ]
    }
   ],
   "source": [
    "# exhaustive search\n",
    "\n",
    "# in order to shorter search time for the demonstration\n",
    "# i will ask the algorithm to try all possible 10 and 11\n",
    "# feature combinations\n",
    "\n",
    "# if you have access to a multicore or distributed computer\n",
    "# system you can try more greedy searches\n",
    "\n",
    "efs = EFS(RandomForestRegressor(n_estimators=200,\n",
    "                                n_jobs=4,\n",
    "                                random_state=0,\n",
    "                                max_depth=4),\n",
    "          min_features=X_train.shape[1],\n",
    "          max_features=X_train.shape[1],\n",
    "          scoring='r2',\n",
    "          print_progress=True,\n",
    "          cv=2)\n",
    "\n",
    "efs = efs.fit(X_train, y_train)"
   ]
  },
  {
   "cell_type": "code",
   "execution_count": 22,
   "metadata": {},
   "outputs": [
    {
     "data": {
      "text/plain": [
       "Index(['Total_Population', 'Power_usage', 'Business_above_100', 'complex_area',\n",
       "       'High_School_Graduate_ratio', 'Average_Temp', 'Monthly_Rainfall',\n",
       "       'Average_Relative_Humadity', 'Average_Wind'],\n",
       "      dtype='object')"
      ]
     },
     "execution_count": 22,
     "metadata": {},
     "output_type": "execute_result"
    }
   ],
   "source": [
    "X_train.columns[list(efs.best_idx_)]"
   ]
  },
  {
   "cell_type": "markdown",
   "metadata": {},
   "source": [
    "#### - Compare performance of feature subsets"
   ]
  },
  {
   "cell_type": "code",
   "execution_count": 23,
   "metadata": {},
   "outputs": [],
   "source": [
    "# function to train random forests and evaluate the performance\n",
    "\n",
    "def run_randomForests(X_train, X_test, y_train, y_test):\n",
    "    \n",
    "    rf = RandomForestRegressor(n_estimators=200, random_state=39, max_depth=4)\n",
    "    rf.fit(X_train, y_train)\n",
    "\n",
    "    print('Train set')\n",
    "    pred = rf.predict(X_train)\n",
    "    print('Random Forests R2: {}'.format(r2_score(y_train, pred)))\n",
    "    \n",
    "    print('Test set')\n",
    "    pred = rf.predict(X_test)\n",
    "    print('Random Forests R2: {}'.format(r2_score(y_test, pred)))"
   ]
  },
  {
   "cell_type": "code",
   "execution_count": 24,
   "metadata": {},
   "outputs": [
    {
     "data": {
      "text/plain": [
       "Index(['Total_Population', 'Power_usage', 'Business_above_100', 'complex_area',\n",
       "       'High_School_Graduate_ratio', 'Average_Temp', 'Monthly_Rainfall',\n",
       "       'Average_Relative_Humadity', 'Average_Wind'],\n",
       "      dtype='object')"
      ]
     },
     "execution_count": 24,
     "metadata": {},
     "output_type": "execute_result"
    }
   ],
   "source": [
    "selected_feat = X_train.columns[list(efs.best_idx_)]\n",
    "\n",
    "results[\"Exhaustive Feature Selection\"] = selected_feat.values\n",
    "\n",
    "selected_feat"
   ]
  },
  {
   "cell_type": "code",
   "execution_count": 25,
   "metadata": {},
   "outputs": [
    {
     "data": {
      "text/html": [
       "<div>\n",
       "<style scoped>\n",
       "    .dataframe tbody tr th:only-of-type {\n",
       "        vertical-align: middle;\n",
       "    }\n",
       "\n",
       "    .dataframe tbody tr th {\n",
       "        vertical-align: top;\n",
       "    }\n",
       "\n",
       "    .dataframe thead th {\n",
       "        text-align: right;\n",
       "    }\n",
       "</style>\n",
       "<table border=\"1\" class=\"dataframe\">\n",
       "  <thead>\n",
       "    <tr style=\"text-align: right;\">\n",
       "      <th></th>\n",
       "      <th>step forward feature selection</th>\n",
       "      <th>step backward feature selection</th>\n",
       "      <th>Exhaustive Feature Selection</th>\n",
       "    </tr>\n",
       "  </thead>\n",
       "  <tbody>\n",
       "    <tr>\n",
       "      <th>0</th>\n",
       "      <td>[Total_Population, Power_usage, Business_above...</td>\n",
       "      <td>[Total_Population, Power_usage, Business_above...</td>\n",
       "      <td>[Total_Population, Power_usage, Business_above...</td>\n",
       "    </tr>\n",
       "  </tbody>\n",
       "</table>\n",
       "</div>"
      ],
      "text/plain": [
       "                      step forward feature selection  \\\n",
       "0  [Total_Population, Power_usage, Business_above...   \n",
       "\n",
       "                     step backward feature selection  \\\n",
       "0  [Total_Population, Power_usage, Business_above...   \n",
       "\n",
       "                        Exhaustive Feature Selection  \n",
       "0  [Total_Population, Power_usage, Business_above...  "
      ]
     },
     "execution_count": 25,
     "metadata": {},
     "output_type": "execute_result"
    }
   ],
   "source": [
    "results_f = pd.DataFrame()\n",
    "results_f[\"step forward feature selection\"] = [list(results[\"step forward feature selection\"])]\n",
    "results_f[\"step backward feature selection\"] = [list(results[\"step backward feature selection\"])]\n",
    "results_f[\"Exhaustive Feature Selection\"] = [list(results[\"Exhaustive Feature Selection\"])]\n",
    "results_f.to_csv(f'./results/{CITY_NAME_Eng}_wrapper_results.csv')\n",
    "results_f"
   ]
  },
  {
   "cell_type": "code",
   "execution_count": 26,
   "metadata": {},
   "outputs": [
    {
     "name": "stdout",
     "output_type": "stream",
     "text": [
      "Train set\n",
      "Random Forests R2: 0.9697862769022803\n",
      "Test set\n",
      "Random Forests R2: 0.9273250474798512\n"
     ]
    }
   ],
   "source": [
    "# evaluate performance of algorithm built\n",
    "# using selected features\n",
    "\n",
    "run_randomForests(X_train[selected_feat],\n",
    "                  X_test[selected_feat],\n",
    "                  y_train, y_test)"
   ]
  },
  {
   "cell_type": "code",
   "execution_count": 27,
   "metadata": {},
   "outputs": [
    {
     "name": "stdout",
     "output_type": "stream",
     "text": [
      "Train set\n",
      "Random Forests R2: 0.9697862769022803\n",
      "Test set\n",
      "Random Forests R2: 0.9273250474798512\n"
     ]
    }
   ],
   "source": [
    "# and for comparison, we train random forests using\n",
    "# all features (except the correlated ones, which we removed already)\n",
    "\n",
    "run_randomForests(X_train,\n",
    "                  X_test,\n",
    "                  y_train, y_test)"
   ]
  }
 ],
 "metadata": {
  "kernelspec": {
   "display_name": "ts",
   "language": "python",
   "name": "python3"
  },
  "language_info": {
   "codemirror_mode": {
    "name": "ipython",
    "version": 3
   },
   "file_extension": ".py",
   "mimetype": "text/x-python",
   "name": "python",
   "nbconvert_exporter": "python",
   "pygments_lexer": "ipython3",
   "version": "3.8.17"
  },
  "orig_nbformat": 4
 },
 "nbformat": 4,
 "nbformat_minor": 2
}
