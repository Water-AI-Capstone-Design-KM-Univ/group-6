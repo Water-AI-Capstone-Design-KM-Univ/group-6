{
 "cells": [
  {
   "cell_type": "markdown",
   "id": "cad9a838",
   "metadata": {},
   "source": [
    "## Forecasting Water Demand"
   ]
  },
  {
   "cell_type": "code",
   "execution_count": null,
   "id": "02114b38",
   "metadata": {
    "tags": []
   },
   "outputs": [],
   "source": [
    "import pickle\n",
    "import warnings\n",
    "from math import sqrt\n",
    "\n",
    "import matplotlib as mpl\n",
    "import numpy as np\n",
    "import pandas as pd  # Basic library for all of our dataset operations\n",
    "import pmdarima as pm\n",
    "import tensorflow as tf\n",
    "import xgboost as xgb\n",
    "from xgboost import XGBRegressor as xgbr\n",
    "\n",
    "from matplotlib import pyplot as plt\n",
    "from sklearn.ensemble import RandomForestRegressor\n",
    "from sklearn.model_selection import RandomizedSearchCV, cross_val_score, KFold, GridSearchCV\n",
    "from sklearn.metrics import make_scorer, mean_squared_error, r2_score\n",
    "from sklearn.preprocessing import StandardScaler\n",
    "from tqdm import tqdm\n",
    "\n",
    "# We will use deprecated models of statmodels which throw a lot of warnings to use more modern ones\n",
    "warnings.filterwarnings(\"ignore\")\n",
    "\n",
    "\n",
    "# Extra settings\n",
    "seed = 42\n",
    "tf.random.set_seed(seed)\n",
    "np.random.seed(seed)\n",
    "plt.style.use('bmh')\n",
    "mpl.rcParams['axes.labelsize'] = 14\n",
    "mpl.rcParams['xtick.labelsize'] = 12\n",
    "mpl.rcParams['ytick.labelsize'] = 12\n",
    "mpl.rcParams['text.color'] = 'k'\n",
    "mpl.rcParams['figure.figsize'] = 18, 8\n",
    "\n",
    "print(tf.__version__)"
   ]
  },
  {
   "cell_type": "markdown",
   "id": "3ece5524",
   "metadata": {
    "incorrectly_encoded_metadata": "toc-hr-collapsed=false"
   },
   "source": [
    "### 1. Prepare data before Forecasting"
   ]
  },
  {
   "cell_type": "code",
   "execution_count": null,
   "id": "1c70ee53",
   "metadata": {
    "tags": []
   },
   "outputs": [],
   "source": [
    "# set city name\n",
    "city_data = \"1_goyang_city.xlsx\"\n",
    "city_name = \"GoYang-City\""
   ]
  },
  {
   "cell_type": "code",
   "execution_count": null,
   "id": "83552f53",
   "metadata": {
    "tags": []
   },
   "outputs": [],
   "source": [
    "# Read excel file using pandas\n",
    "df = pd.read_excel(open(f\"../1_feature_selection_all/data/{city_data}\", 'rb'), sheet_name=\"training\", header=4, index_col=0)\n",
    "# Remove unnecessary columns for this analysis\n",
    "water_demand = df.iloc[2:]\n",
    "# Change Date Format and Set Date as index\n",
    "water_demand.index = pd.to_datetime(water_demand.index.str.strip(), format='%Y-%m')\n",
    "water_demand.index.name = \"date\"\n",
    "# Change data format from \"Object\" to \"Float\"\n",
    "water_demand[\"water_supply\"] = water_demand.water_supply.astype(float)\n",
    "water_demand[\"Total_Population\"] = water_demand.Total_Population.astype(float)\n",
    "# Delete unnecessary columns \n",
    "water_demand.drop(columns=water_demand.columns[19:21], inplace=True)\n",
    "water_demand.drop(columns=water_demand.columns[22:23], inplace=True)\n",
    "# Select clean data\n",
    "water_demand = water_demand.loc[\"2010-01-01\":]\n",
    "water_demand"
   ]
  },
  {
   "cell_type": "code",
   "execution_count": null,
   "id": "14f709a8",
   "metadata": {
    "tags": []
   },
   "outputs": [],
   "source": [
    "feature_selection = pd.read_csv(\"GoYang-City_feature_selection_ranking.csv\")\n",
    "feature_selection"
   ]
  },
  {
   "cell_type": "code",
   "execution_count": null,
   "id": "58ffdc5e",
   "metadata": {},
   "outputs": [],
   "source": [
    "list(feature_selection[feature_selection.columns[1]][0:5].values)"
   ]
  },
  {
   "cell_type": "code",
   "execution_count": null,
   "id": "1e16d27e",
   "metadata": {},
   "outputs": [],
   "source": [
    "water_demand_re = water_demand[list(feature_selection[feature_selection.columns[1]][0:5].values)]\n",
    "water_demand_re[\"water_supply\"] = water_demand[\"water_supply\"].values\n",
    "water_demand = water_demand_re\n",
    "water_demand"
   ]
  },
  {
   "cell_type": "code",
   "execution_count": null,
   "id": "6bb64bd4",
   "metadata": {},
   "outputs": [],
   "source": [
    "# We split our dataset to be able to evaluate our models\n",
    "\n",
    "resultsDict = {}\n",
    "predictionsDict = {}\n",
    "\n",
    "#air_pollution = pd.read_csv('datasets/air_pollution.csv', parse_dates=['date'])\n",
    "#air_pollution.set_index('date', inplace=True)\n",
    "\n",
    "split_date = '2018-12-01'\n",
    "df_training = water_demand.loc[water_demand.index <= split_date]\n",
    "df_test = water_demand.loc[water_demand.index > split_date]\n",
    "print(f\"{len(df_training)} days of training data \\n {len(df_test)} days of testing data \")\n",
    "\n",
    "df_training.to_csv(f'training_{city_name}.csv')\n",
    "df_test.to_csv(f'test_{city_name}.csv')"
   ]
  },
  {
   "cell_type": "code",
   "execution_count": null,
   "id": "7dfbb468",
   "metadata": {},
   "outputs": [],
   "source": [
    "# ADD time features to our model\n",
    "def create_time_features(df, target=None):\n",
    "    \"\"\"\n",
    "    Creates time series features from datetime index\n",
    "    \"\"\"\n",
    "    df['date'] = df.index\n",
    "    df['hour'] = df['date'].dt.hour\n",
    "    df['dayofweek'] = df['date'].dt.dayofweek\n",
    "    df['quarter'] = df['date'].dt.quarter\n",
    "    df['month'] = df['date'].dt.month\n",
    "    df['year'] = df['date'].dt.year\n",
    "    df['dayofyear'] = df['date'].dt.dayofyear\n",
    "    df['sin_day'] = np.sin(df['dayofyear'])\n",
    "    df['cos_day'] = np.cos(df['dayofyear'])\n",
    "    df['dayofmonth'] = df['date'].dt.day\n",
    "    #df['weekofyear'] = df['date'].dt.weekofyear\n",
    "    X = df.drop(['date'], axis=1)\n",
    "    if target:\n",
    "        y = df[target]\n",
    "        X = X.drop([target], axis=1)\n",
    "        return X, y\n",
    "\n",
    "    return X"
   ]
  },
  {
   "cell_type": "code",
   "execution_count": null,
   "id": "27e5c438",
   "metadata": {},
   "outputs": [],
   "source": [
    "X_train_df, y_train = create_time_features(\n",
    "    df_training, target='water_supply')\n",
    "X_test_df, y_test = create_time_features(df_test, target='water_supply')\n",
    "scaler = StandardScaler()\n",
    "scaler.fit(X_train_df)  # No cheating, never scale on the training+test!\n",
    "X_train = scaler.transform(X_train_df)\n",
    "X_test = scaler.transform(X_test_df)\n",
    "\n",
    "X_train_df = pd.DataFrame(X_train, columns=X_train_df.columns)\n",
    "X_test_df = pd.DataFrame(X_test, columns=X_test_df.columns)"
   ]
  },
  {
   "cell_type": "markdown",
   "id": "8f272877",
   "metadata": {},
   "source": [
    "### 2. Forecasting Methods"
   ]
  },
  {
   "cell_type": "markdown",
   "id": "9349a67c",
   "metadata": {},
   "source": [
    "#### 2.1 Randomforest"
   ]
  },
  {
   "cell_type": "markdown",
   "id": "a4783ec6",
   "metadata": {},
   "source": [
    "#### 2.1.1 적정 n_estimator 검토"
   ]
  },
  {
   "cell_type": "code",
   "execution_count": null,
   "id": "0c174221",
   "metadata": {},
   "outputs": [],
   "source": [
    "# R2와 RMSE 점수와 트리개수를 담을 리스트\n",
    "r2_scores = []\n",
    "rmse_scores = []\n",
    "estimators = []\n",
    "\n",
    "# warm_start=True로 RandomForestRegressor 객체를 만듦\n",
    "rf = RandomForestRegressor(warm_start=True, n_jobs=-1, random_state=2)\n",
    "\n",
    "# 시작트리개수\n",
    "est = 10"
   ]
  },
  {
   "cell_type": "code",
   "execution_count": null,
   "id": "b6349277",
   "metadata": {},
   "outputs": [],
   "source": [
    "# 0~31까지 반복\n",
    "for i in range(41):\n",
    "    \n",
    "    # n_estimator를 est로 설정\n",
    "    rf.set_params(n_estimators=est)\n",
    "    \n",
    "    # 인구조사 데이터셋으로 훈련\n",
    "    rf.fit(X_train, y_train)\n",
    "    \n",
    "    # RMSE 값을 계산\n",
    "    rmse = mean_squared_error(y_test, rf.predict(X_test), squared=False)\n",
    "    \n",
    "    # rmse와 est를 리스트에 추가함\n",
    "    rmse_scores.append(rmse)\n",
    "    estimators.append(est)\n",
    "    \n",
    "    # 트리를 25개씩 늘림\n",
    "    est += 25\n",
    "\n",
    "# 그래프 크기\n",
    "plt.figure(figsize=(15,7))\n",
    "\n",
    "# estimators와 oob_scores를 그래프로 그림\n",
    "plt.plot(estimators, rmse_scores)\n",
    "\n",
    "for i in range(len(estimators)):\n",
    "    plt.annotate(str(estimators[i]), xy=(estimators[i], rmse_scores[i]), fontsize=8)\n",
    "    \n",
    "# 축 레이블을 설정\n",
    "plt.xlabel(\"Number of Trees\", fontsize=15)\n",
    "plt.ylabel(\"RMSE\", fontsize=15)\n",
    "plt.xticks(fontsize=15)\n",
    "plt.yticks(fontsize=15)\n",
    "\n",
    "# 제목을 출력\n",
    "plt.title(f\"Optimal n_estimator evaluation to apply Random Forest ({city_name})\", fontsize=20)\n",
    "plt.grid(True)\n",
    "plt.savefig(f\"./{city_name}_optimal_n_estimator_RF_fs.png\", bbox_inches='tight')\n",
    "plt.show()"
   ]
  },
  {
   "cell_type": "markdown",
   "id": "6daacf86",
   "metadata": {},
   "source": [
    "#### 2.1.2 교차검증을 통한 모델검증"
   ]
  },
  {
   "cell_type": "code",
   "execution_count": null,
   "id": "b464ad63",
   "metadata": {},
   "outputs": [],
   "source": [
    "n_estimator = 250\n",
    "rf = RandomForestRegressor(n_estimators=n_estimator, warm_start=True, n_jobs=-1, random_state=2)\n",
    "scores = cross_val_score(rf, X_train, y_train, scoring=\"neg_mean_squared_error\", cv=10)\n",
    "rmse = np.sqrt(-scores)\n",
    "print('RMSE:', np.round(rmse,3))\n",
    "print('RMSE 평균: %0.3f' % (rmse.mean()))"
   ]
  },
  {
   "cell_type": "markdown",
   "id": "ea2faa91",
   "metadata": {},
   "source": [
    "#### 2.1.3 하이퍼파라미터 튜닝"
   ]
  },
  {
   "cell_type": "markdown",
   "id": "8f258f4a",
   "metadata": {},
   "source": [
    " * 하이퍼파라미터 튜닝을 위한 함수 정의"
   ]
  },
  {
   "cell_type": "code",
   "execution_count": null,
   "id": "3c7695f1",
   "metadata": {},
   "outputs": [],
   "source": [
    "def randomized_search_reg(params, runs=16, reg=RandomForestRegressor(n_estimators=n_estimator, warm_start=True, random_state=2, n_jobs=-1)):\n",
    "    rand_reg = RandomizedSearchCV(reg, params, n_iter=runs, scoring='neg_mean_squared_error', cv=10,\n",
    "                                  n_jobs=-1, random_state=2)\n",
    "    rand_reg.fit(X_train, y_train)\n",
    "    best_model = rand_reg.best_estimator_\n",
    "    best_params = rand_reg.best_params_\n",
    "    print(\"최상의 매개변수:\", best_params)\n",
    "    best_score = np.sqrt(-rand_reg.best_score_)\n",
    "    print(\"훈련점수: {:.3f}\".format(best_score))\n",
    "    y_pred = best_model.predict(X_test)\n",
    "    from sklearn.metrics import mean_squared_error as MSE\n",
    "    rmse_test = mean_squared_error(y_test, y_pred, squared=False)\n",
    "    print(\"테스트 세트 점수: {:.3f}\".format(rmse_test))\n",
    "    return best_params"
   ]
  },
  {
   "cell_type": "markdown",
   "id": "3741aeaf",
   "metadata": {},
   "source": [
    " * 적정 하이퍼파라미터 튜닝을 위한 하이퍼파라미터 값 설정"
   ]
  },
  {
   "cell_type": "code",
   "execution_count": null,
   "id": "f26445e9",
   "metadata": {},
   "outputs": [],
   "source": [
    "best_params = randomized_search_reg(\n",
    "              params={'max_depth':[None, 2, 4, 6, 8, 10, 20],\n",
    "                      'max_leaf_nodes':[10, 15, 20, 25, 30, 35, 40, 45, 50, None],\n",
    "                      'max_features':['auto', 0.8, 0.7, 0.6, 0.5, 0.4],\n",
    "                      'min_impurity_decrease':[0.0, 0.01, 0.05, 0.10, 0.15, 0.2]})"
   ]
  },
  {
   "cell_type": "markdown",
   "id": "0f0d9970",
   "metadata": {},
   "source": [
    "#### 2.1.4 최적 모델적용 및 Test 데이터에 대한 성능평가"
   ]
  },
  {
   "cell_type": "code",
   "execution_count": null,
   "id": "5d8e0dda",
   "metadata": {},
   "outputs": [],
   "source": [
    "# warm_start=True로 RandomForestRegressor 객체를 만듦\n",
    "rf = RandomForestRegressor(n_estimators=n_estimator, random_state=2, n_jobs=-1, \n",
    "                           max_depth=best_params['max_depth'], max_leaf_nodes=best_params['max_leaf_nodes'],\n",
    "                           max_features=best_params['max_features'], \n",
    "                           min_impurity_decrease=best_params['min_impurity_decrease'])"
   ]
  },
  {
   "cell_type": "code",
   "execution_count": null,
   "id": "71c8e070",
   "metadata": {},
   "outputs": [],
   "source": [
    "rf.fit(X_train, y_train)\n",
    "\n",
    "# R2과 RMSE 값을 계산\n",
    "train_rf_r2 = r2_score(y_train, rf.predict(X_train))\n",
    "train_rf_rmse = mean_squared_error(y_train, rf.predict(X_train), squared=False)\n",
    "test_rf_r2 = r2_score(y_test, rf.predict(X_test))\n",
    "test_rf_rmse = mean_squared_error(y_test, rf.predict(X_test), squared=False)\n",
    "\n",
    "print(\"RF Train R2: {:.2f}\".format(train_rf_r2))\n",
    "print(\"RF Train RMSE: {:.2f}\".format(train_rf_rmse))\n",
    "print(\"RF Test R2: {:.2f}\".format(test_rf_r2))\n",
    "print(\"RF Test RMSE: {:.2f}\".format(test_rf_rmse))"
   ]
  },
  {
   "cell_type": "markdown",
   "id": "f580bb78",
   "metadata": {},
   "source": [
    "#### 2.1.5 Plotting"
   ]
  },
  {
   "cell_type": "code",
   "execution_count": null,
   "id": "49f34f60",
   "metadata": {},
   "outputs": [],
   "source": [
    "fig = plt.figure(figsize=(20, 6))\n",
    "ax = fig.add_subplot(111)\n",
    "\n",
    "ax.scatter(water_demand[\"water_supply\"].index, water_demand[\"water_supply\"], label='Water Supply Observation', c='black', s=70)  # Plot some data on the axes.\n",
    "ax.plot(water_demand[\"water_supply\"].index, np.append(rf.predict(X_train), rf.predict(X_test)), linewidth=3, label='Water Demand Forecasting (Random Forest)')  # Plot more data on the axes...\n",
    "\n",
    "#ax.plot(water_demand[\"water_supply\"].index, water_demand[\"water_supply\"], linewidth=3, label='Water Supply Observation')  # Plot some data on the axes.\n",
    "#ax.scatter(water_demand[\"water_supply\"].index, np.append(rf.predict(X_train), rf.predict(X_test)), c='r', s=70, label='Water Demand Forecasting (Random Forest)')  # Plot more data on the axes...\n",
    "ax.plot([water_demand[\"water_supply\"].index[108], water_demand[\"water_supply\"].index[108]], [water_demand[\"water_supply\"].min(), water_demand[\"water_supply\"].max()], linewidth=5, linestyle=\"dashed\")\n",
    "#ax.text(water_demand[\"water_supply\"].index[90], water_demand[\"water_supply\"].max()-10000, \"Train\", horizontalalignment='left', size=20)\n",
    "#ax.text(water_demand[\"water_supply\"].index[125], water_demand[\"water_supply\"].max()-10000, \"Test\", horizontalalignment='right', size=20)\n",
    "ax.text(water_demand[\"water_supply\"].index[100], water_demand[\"water_supply\"].max()-100000, f\"Train Performance\\n$R^2$:{train_rf_r2:.2f}, RMSE:{train_rf_rmse:.0f}\", horizontalalignment='right', size=20)\n",
    "ax.text(water_demand[\"water_supply\"].index[115], water_demand[\"water_supply\"].max()-100000, f\"Test Performance\\n$R^2$:{test_rf_r2:.2f}, RMSE:{test_rf_rmse:.0f}\", horizontalalignment='left', size=20)\n",
    "\n",
    "ax.set_xlabel('Date', fontsize=20)  # Add an x-label to the axes.\n",
    "ax.set_ylabel('Water Supply', fontsize=20)  # Add a y-label to the axes.\n",
    "#ax.set_title(f\"Performance Evaluation using Random Forest with All variables ({city_name})\", fontsize=20)  # Add a title to the axes.\n",
    "ax.legend(fontsize=20)  # Add a legend.\n",
    "plt.xticks(fontsize=20)\n",
    "plt.yticks(fontsize=20)\n",
    "ax.grid()\n",
    "ax.grid()\n",
    "plt.savefig(f\"./f{city_name}_performance_plot_rf_fs_variable.png\", bbox_inches='tight')"
   ]
  },
  {
   "cell_type": "code",
   "execution_count": null,
   "id": "60237c3f",
   "metadata": {},
   "outputs": [],
   "source": [
    "water_demand[\"random_forest\"] = np.append(rf.predict(X_train), rf.predict(X_test))\n",
    "rf_result = water_demand[[\"water_supply\", \"random_forest\"]]\n",
    "rf_result.to_csv(f\"{city_name}_RF_result_selection.csv\")"
   ]
  },
  {
   "cell_type": "markdown",
   "id": "9596215d",
   "metadata": {
    "incorrectly_encoded_metadata": "toc-hr-collapsed=true"
   },
   "source": [
    "### 2.2 XGBoost"
   ]
  },
  {
   "cell_type": "markdown",
   "id": "3c78a7a1",
   "metadata": {},
   "source": [
    "#### 2.2.1 적정 n_estimator 검토"
   ]
  },
  {
   "cell_type": "code",
   "execution_count": null,
   "id": "0afaebc3",
   "metadata": {},
   "outputs": [],
   "source": [
    "kfold = KFold(n_splits=5, shuffle=True, random_state=2)\n",
    "\n",
    "def n_estimators(model):\n",
    "    eval_set = [(X_test, y_test)]\n",
    "    eval_metric = \"rmse\"\n",
    "    model.fit(X_train, y_train, eval_metric=eval_metric,\n",
    "              eval_set=eval_set, early_stopping_rounds=100)\n",
    "    y_pred = model.predict(X_test)\n",
    "    rmse = mean_squared_error(y_test, y_pred)**0.5\n",
    "    return rmse\n",
    "    \n",
    "n_estimators(xgbr(n_estimators=5000))"
   ]
  },
  {
   "cell_type": "markdown",
   "id": "0de6b999",
   "metadata": {},
   "source": [
    "#### 2.2.2 하이퍼파라미터 튜닝"
   ]
  },
  {
   "cell_type": "code",
   "execution_count": null,
   "id": "5f076df9",
   "metadata": {},
   "outputs": [],
   "source": [
    "def grid_search(params, reg=xgbr()):\n",
    "    grid_reg = GridSearchCV(reg, params, scoring='neg_mean_squared_error', cv=kfold)\n",
    "    grid_reg.fit(X_train, y_train)\n",
    "    best_params = grid_reg.best_params_\n",
    "    print(\"최상의 매개변수:\", best_params)\n",
    "    best_score = np.sqrt(-grid_reg.best_score_)\n",
    "    print(\"최상의 점수:\", best_score)\n",
    "    return best_params\n",
    "best_params = grid_search(params={'max_depth':[1, 2, 3, 4, 5, 6, 7, 8],\n",
    "                                  'n_estimators':[1, 3, 10, 20, 30, 40]})"
   ]
  },
  {
   "cell_type": "markdown",
   "id": "7b8b0a85",
   "metadata": {},
   "source": [
    "#### 2.2.3 최적 모델적용 및 Test 데이터에 대한 성능평가"
   ]
  },
  {
   "cell_type": "code",
   "execution_count": null,
   "id": "caef4855",
   "metadata": {},
   "outputs": [],
   "source": [
    "model = xgbr(max_depth=best_params['max_depth'],\n",
    "             n_estimators=best_params['n_estimators'])\n",
    "model.fit(X_train, y_train)"
   ]
  },
  {
   "cell_type": "code",
   "execution_count": null,
   "id": "771d0339",
   "metadata": {},
   "outputs": [],
   "source": [
    "# R2과 RMSE 값을 계산\n",
    "train_xgb_r2 = r2_score(y_train, model.predict(X_train))\n",
    "train_xgb_rmse = mean_squared_error(y_train, model.predict(X_train), squared=False)\n",
    "test_xgb_r2 = r2_score(y_test, model.predict(X_test))\n",
    "test_xgb_rmse = mean_squared_error(y_test, model.predict(X_test), squared=False)\n",
    "\n",
    "print(\"XGB Train R2: {:.2f}\".format(train_xgb_r2))\n",
    "print(\"XGB Train RMSE: {:.2f}\".format(train_xgb_rmse))\n",
    "print(\"XGB Test R2: {:.2f}\".format(test_xgb_r2))\n",
    "print(\"XGB Test RMSE: {:.2f}\".format(test_xgb_rmse))"
   ]
  },
  {
   "cell_type": "markdown",
   "id": "1dfce510",
   "metadata": {},
   "source": [
    "#### 2.2.4 Plotting"
   ]
  },
  {
   "cell_type": "code",
   "execution_count": null,
   "id": "81988bbb",
   "metadata": {},
   "outputs": [],
   "source": [
    "fig = plt.figure(figsize=(20, 6))\n",
    "ax = fig.add_subplot(111)\n",
    "\n",
    "ax.scatter(water_demand[\"water_supply\"].index, water_demand[\"water_supply\"], label='Water Supply Observation', c='black', s=70)  # Plot some data on the axes.\n",
    "ax.plot(water_demand[\"water_supply\"].index, np.append(model.predict(X_train), model.predict(X_test)), linewidth=3, label='Water Demand Forecasting (XGBoost)')  # Plot more data on the axes...\n",
    "#ax.plot(water_demand[\"water_supply\"].index, water_demand[\"water_supply\"], linewidth=3, label='Water Supply Observation')  # Plot some data on the axes.\n",
    "#ax.scatter(water_demand[\"water_supply\"].index, np.append(model.predict(X_train), model.predict(X_test)), c='r', s=70, label='Water Demand Forecasting (XGBoost)')  # Plot more data on the axes...\n",
    "ax.plot([water_demand[\"water_supply\"].index[108], water_demand[\"water_supply\"].index[108]], [water_demand[\"water_supply\"].min(), water_demand[\"water_supply\"].max()], linewidth=5, linestyle=\"dashed\")\n",
    "#ax.text(water_demand[\"water_supply\"].index[90], water_demand[\"water_supply\"].max()-10000, \"Train\", horizontalalignment='left', size=20)\n",
    "#ax.text(water_demand[\"water_supply\"].index[125], water_demand[\"water_supply\"].max()-10000, \"Test\", horizontalalignment='right', size=20)\n",
    "ax.text(water_demand[\"water_supply\"].index[100], water_demand[\"water_supply\"].max()-100000, f\"Train Performance\\n$R^2$:{train_xgb_r2:.2f}, RMSE:{train_xgb_rmse:.0f}\", horizontalalignment='right', size=20)\n",
    "ax.text(water_demand[\"water_supply\"].index[115], water_demand[\"water_supply\"].max()-100000, f\"Test Performance\\n$R^2$:{test_xgb_r2:.2f}, RMSE:{test_xgb_rmse:.0f}\", horizontalalignment='left', size=20)\n",
    "\n",
    "ax.set_xlabel('Date', fontsize=20)  # Add an x-label to the axes.\n",
    "ax.set_ylabel('Water Supply', fontsize=20)  # Add a y-label to the axes.\n",
    "#ax.set_title(f\"Performance Evaluation using Random Forest with All variables ({city_name})\", fontsize=20)  # Add a title to the axes.\n",
    "ax.legend(fontsize=20)  # Add a legend.\n",
    "plt.xticks(fontsize=20)\n",
    "plt.yticks(fontsize=20)\n",
    "ax.grid()\n",
    "ax.grid()\n",
    "plt.savefig(f\"./{city_name}_performance_plot_xgb_fs_variable.png\", bbox_inches='tight')"
   ]
  },
  {
   "cell_type": "code",
   "execution_count": null,
   "id": "19766110",
   "metadata": {},
   "outputs": [],
   "source": [
    "water_demand[\"xgboost\"] = np.append(model.predict(X_train), model.predict(X_test))\n",
    "rf_result = water_demand[[\"water_supply\", \"xgboost\"]]\n",
    "rf_result.to_csv(f\"{city_name}_XGBoost_result_selection.csv\")"
   ]
  }
 ],
 "metadata": {
  "jupytext": {
   "encoding": "# -*- coding: utf-8 -*-"
  },
  "kernelspec": {
   "display_name": "Python 3 (ipykernel)",
   "language": "python",
   "name": "python3"
  },
  "language_info": {
   "codemirror_mode": {
    "name": "ipython",
    "version": 3
   },
   "file_extension": ".py",
   "mimetype": "text/x-python",
   "name": "python",
   "nbconvert_exporter": "python",
   "pygments_lexer": "ipython3",
   "version": "3.10.12"
  }
 },
 "nbformat": 4,
 "nbformat_minor": 5
}
